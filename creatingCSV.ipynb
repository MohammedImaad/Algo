{
 "cells": [
  {
   "cell_type": "code",
   "execution_count": 12,
   "metadata": {},
   "outputs": [],
   "source": [
    "from fyers_api import accessToken\n",
    "from fyers_api.Websocket import ws\n",
    "import pandas as pd\n",
    "from fyers_api import accessToken\n",
    "from fyers_api import fyersModel\n",
    "import os\n",
    "import math\n",
    "import datetime\n",
    "import csv"
   ]
  },
  {
   "cell_type": "code",
   "execution_count": 2,
   "metadata": {},
   "outputs": [],
   "source": [
    "client_id='TAZ287TZUA-100'\n",
    "secret_id='PPZ5ZG1YAR'\n",
    "url='https://www.google.com/'\n",
    "response_type = \"code\"\n",
    "grant_type = \"authorization_code\""
   ]
  },
  {
   "cell_type": "code",
   "execution_count": 3,
   "metadata": {},
   "outputs": [
    {
     "name": "stdout",
     "output_type": "stream",
     "text": [
      "https://api.fyers.in/api/v2/generate-authcode?client_id=TAZ287TZUA-100&redirect_uri=https%3A%2F%2Fwww.google.com%2F&response_type=code&state=None\n"
     ]
    }
   ],
   "source": [
    "session=accessToken.SessionModel(\n",
    "    client_id=client_id,\n",
    "    secret_key=secret_id,\n",
    "    redirect_uri=url, \n",
    "    response_type=response_type,\n",
    "    grant_type=grant_type\n",
    ")\n",
    "\n",
    "response = session.generate_authcode()\n",
    "print(response)"
   ]
  },
  {
   "cell_type": "code",
   "execution_count": 4,
   "metadata": {},
   "outputs": [],
   "source": [
    "auth_code='eyJ0eXAiOiJKV1QiLCJhbGciOiJIUzI1NiJ9.eyJpc3MiOiJhcGkubG9naW4uZnllcnMuaW4iLCJpYXQiOjE2OTUxNDI5NjQsImV4cCI6MTY5NTE3Mjk2NCwibmJmIjoxNjk1MTQyMzY0LCJhdWQiOiJbXCJ4OjBcIiwgXCJ4OjFcIiwgXCJ4OjJcIiwgXCJkOjFcIiwgXCJkOjJcIiwgXCJ4OjFcIiwgXCJ4OjBcIl0iLCJzdWIiOiJhdXRoX2NvZGUiLCJkaXNwbGF5X25hbWUiOiJYTTA0MzQyIiwib21zIjoiSzEiLCJoc21fa2V5IjoiNWI3Mzg3ZTYxOGQzODllNGVjOGVmZjU1ODM0ZTBmMTA1NjdjYWU1ODk5YWQ5NWY3MzgxMTM3YTMiLCJub25jZSI6IiIsImFwcF9pZCI6IlRBWjI4N1RaVUEiLCJ1dWlkIjoiZmQ0NjVmNDBmMzY4NDQ5MTkyMmYwOTI3YWIxNTNlYTEiLCJpcEFkZHIiOiIwLjAuMC4wIiwic2NvcGUiOiIifQ.OBQTB5MDawnCXyo4WDZbYw9d6m1ycI_lYb7HeWd1JK4'"
   ]
  },
  {
   "cell_type": "code",
   "execution_count": 5,
   "metadata": {},
   "outputs": [
    {
     "name": "stdout",
     "output_type": "stream",
     "text": [
      "{'s': 'ok', 'code': 200, 'message': '', 'access_token': 'eyJ0eXAiOiJKV1QiLCJhbGciOiJIUzI1NiJ9.eyJpc3MiOiJhcGkuZnllcnMuaW4iLCJpYXQiOjE2OTUxNDMwMTcsImV4cCI6MTY5NTE2OTgzNywibmJmIjoxNjk1MTQzMDE3LCJhdWQiOlsieDowIiwieDoxIiwieDoyIiwiZDoxIiwiZDoyIiwieDoxIiwieDowIl0sInN1YiI6ImFjY2Vzc190b2tlbiIsImF0X2hhc2giOiJnQUFBQUFCbENkUnBKUjhyQmh0TlJmc0xBYnlpSU9CYWlzRFNWYVdWbHN3djVVMXlrNVhsS2lZdGhad2hLYmdjQ0VzVkZUcTBuNTl6TWFiUFN3c2o0eExEcno3anV2TVpDX1hvRmNId1JIcGMwY1BtZXZiM3JHbz0iLCJkaXNwbGF5X25hbWUiOiJNT0hBTU1FRCBSQVlZQU4gU0FJVCIsIm9tcyI6IksxIiwiaHNtX2tleSI6IjViNzM4N2U2MThkMzg5ZTRlYzhlZmY1NTgzNGUwZjEwNTY3Y2FlNTg5OWFkOTVmNzM4MTEzN2EzIiwiZnlfaWQiOiJYTTA0MzQyIiwiYXBwVHlwZSI6MTAwLCJwb2FfZmxhZyI6Ik4ifQ._qrykd7k0ZP28h7cJ583ig5yoaWcfhW4jRsOQ2RsUvc', 'refresh_token': 'eyJ0eXAiOiJKV1QiLCJhbGciOiJIUzI1NiJ9.eyJpc3MiOiJhcGkuZnllcnMuaW4iLCJpYXQiOjE2OTUxNDMwMTcsImV4cCI6MTY5NjM3OTQzNywibmJmIjoxNjk1MTQzMDE3LCJhdWQiOlsieDowIiwieDoxIiwieDoyIiwiZDoxIiwiZDoyIiwieDoxIiwieDowIl0sInN1YiI6InJlZnJlc2hfdG9rZW4iLCJhdF9oYXNoIjoiZ0FBQUFBQmxDZFJwSlI4ckJodE5SZnNMQWJ5aUlPQmFpc0RTVmFXVmxzd3Y1VTF5azVYbEtpWXRoWndoS2JnY0NFc1ZGVHEwbjU5ek1hYlBTd3NqNHhMRHJ6N2p1dk1aQ19Yb0ZjSHdSSHBjMGNQbWV2YjNyR289IiwiZGlzcGxheV9uYW1lIjoiTU9IQU1NRUQgUkFZWUFOIFNBSVQiLCJvbXMiOiJLMSIsImhzbV9rZXkiOiI1YjczODdlNjE4ZDM4OWU0ZWM4ZWZmNTU4MzRlMGYxMDU2N2NhZTU4OTlhZDk1ZjczODExMzdhMyIsImZ5X2lkIjoiWE0wNDM0MiIsImFwcFR5cGUiOjEwMCwicG9hX2ZsYWciOiJOIn0.bKQorzE0rfxU_FWMOcpE3tjZOFowKAfUIVRYDdKNNK0'}\n"
     ]
    }
   ],
   "source": [
    "session.set_token(auth_code)\n",
    "response = session.generate_token()\n",
    "print(response)"
   ]
  },
  {
   "cell_type": "code",
   "execution_count": 6,
   "metadata": {},
   "outputs": [],
   "source": [
    "access_token=response['access_token']"
   ]
  },
  {
   "cell_type": "code",
   "execution_count": 7,
   "metadata": {},
   "outputs": [],
   "source": [
    "fyers=fyersModel.FyersModel(client_id=client_id,token=access_token,log_path=os.getcwd())"
   ]
  },
  {
   "cell_type": "code",
   "execution_count": 34,
   "metadata": {},
   "outputs": [
    {
     "name": "stdout",
     "output_type": "stream",
     "text": [
      "{'s': 'error', 'code': -8, 'message': 'Your token has expired. Please generate a token'}\n"
     ]
    }
   ],
   "source": [
    "symbol=\"NSE:SBIN-EQ\"\n",
    "data = {\n",
    "    \"symbol\":symbol,\n",
    "    \"resolution\":\"5\",\n",
    "    \"date_format\":\"1\",\n",
    "    \"range_from\":\"2023-06-19\",\n",
    "    \"range_to\":\"2023-09-19\",\n",
    "    \"cont_flag\":\"1\"\n",
    "}\n",
    "\n",
    "response = fyers.history(data=data)\n",
    "print(response)"
   ]
  },
  {
   "cell_type": "code",
   "execution_count": 31,
   "metadata": {},
   "outputs": [],
   "source": [
    "with open('sbi.csv', 'w', newline='') as file:\n",
    "    writer = csv.writer(file)\n",
    "     \n",
    "    writer.writerow(['Time','Open','High','Low','Close','Volume'])\n",
    "    writer.writerows(response['candles'])"
   ]
  },
  {
   "cell_type": "code",
   "execution_count": 32,
   "metadata": {},
   "outputs": [],
   "source": [
    "candleSticks=response['candles']"
   ]
  },
  {
   "cell_type": "code",
   "execution_count": 33,
   "metadata": {},
   "outputs": [],
   "source": [
    "def get_adx(high, low, close, lookback):\n",
    "    plus_dm = high.diff()\n",
    "    minus_dm = low.diff()\n",
    "    plus_dm[plus_dm < 0] = 0\n",
    "    minus_dm[minus_dm > 0] = 0\n",
    "    \n",
    "    tr1 = pd.DataFrame(high - low)\n",
    "    tr2 = pd.DataFrame(abs(high - close.shift(1)))\n",
    "    tr3 = pd.DataFrame(abs(low - close.shift(1)))\n",
    "    frames = [tr1, tr2, tr3]\n",
    "    tr = pd.concat(frames, axis = 1, join = 'inner').max(axis = 1)\n",
    "    atr = tr.rolling(lookback).mean()\n",
    "    \n",
    "    plus_di = 100 * (plus_dm.ewm(alpha = 1/lookback).mean() / atr)\n",
    "    minus_di = abs(100 * (minus_dm.ewm(alpha = 1/lookback).mean() / atr))\n",
    "    dx = (abs(plus_di - minus_di) / abs(plus_di + minus_di)) * 100\n",
    "    adx = ((dx.shift(1) * (lookback - 1)) + dx) / lookback\n",
    "    adx_smooth = adx.ewm(alpha = 1/lookback).mean()\n",
    "    return adx_smooth"
   ]
  },
  {
   "cell_type": "code",
   "execution_count": null,
   "metadata": {},
   "outputs": [],
   "source": []
  }
 ],
 "metadata": {
  "kernelspec": {
   "display_name": "Python 3",
   "language": "python",
   "name": "python3"
  },
  "language_info": {
   "codemirror_mode": {
    "name": "ipython",
    "version": 3
   },
   "file_extension": ".py",
   "mimetype": "text/x-python",
   "name": "python",
   "nbconvert_exporter": "python",
   "pygments_lexer": "ipython3",
   "version": "3.11.4"
  },
  "orig_nbformat": 4
 },
 "nbformat": 4,
 "nbformat_minor": 2
}
