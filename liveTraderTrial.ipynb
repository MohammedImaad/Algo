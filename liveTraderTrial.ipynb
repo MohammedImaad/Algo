{
 "cells": [
  {
   "cell_type": "code",
   "execution_count": 1,
   "metadata": {},
   "outputs": [],
   "source": [
    "from fyers_api import accessToken\n",
    "from fyers_api.Websocket import ws\n",
    "import pandas as pd\n",
    "from fyers_api import fyersModel\n",
    "import os\n",
    "from fyers_api.Websocket import ws\n",
    "import numpy as np\n",
    "import math\n",
    "import datetime"
   ]
  },
  {
   "cell_type": "code",
   "execution_count": 2,
   "metadata": {},
   "outputs": [],
   "source": [
    "client_id='TAZ287TZUA-100'\n",
    "secret_id='PPZ5ZG1YAR'\n",
    "url='https://www.google.com/'\n",
    "response_type = \"code\"\n",
    "grant_type = \"authorization_code\""
   ]
  },
  {
   "cell_type": "code",
   "execution_count": 3,
   "metadata": {},
   "outputs": [
    {
     "name": "stdout",
     "output_type": "stream",
     "text": [
      "https://api.fyers.in/api/v2/generate-authcode?client_id=TAZ287TZUA-100&redirect_uri=https%3A%2F%2Fwww.google.com%2F&response_type=code&state=None\n"
     ]
    }
   ],
   "source": [
    "session=accessToken.SessionModel(\n",
    "    client_id=client_id,\n",
    "    secret_key=secret_id,\n",
    "    redirect_uri=url, \n",
    "    response_type=response_type,\n",
    "    grant_type=grant_type\n",
    ")\n",
    "\n",
    "response = session.generate_authcode()\n",
    "print(response)"
   ]
  },
  {
   "cell_type": "code",
   "execution_count": 4,
   "metadata": {},
   "outputs": [],
   "source": [
    "auth_code='eyJ0eXAiOiJKV1QiLCJhbGciOiJIUzI1NiJ9.eyJpc3MiOiJhcGkubG9naW4uZnllcnMuaW4iLCJpYXQiOjE2OTYwNjA2ODYsImV4cCI6MTY5NjA5MDY4NiwibmJmIjoxNjk2MDYwMDg2LCJhdWQiOiJbXCJ4OjBcIiwgXCJ4OjFcIiwgXCJ4OjJcIiwgXCJkOjFcIiwgXCJkOjJcIiwgXCJ4OjFcIiwgXCJ4OjBcIl0iLCJzdWIiOiJhdXRoX2NvZGUiLCJkaXNwbGF5X25hbWUiOiJYTTA0MzQyIiwib21zIjoiSzEiLCJoc21fa2V5IjoiNWI3Mzg3ZTYxOGQzODllNGVjOGVmZjU1ODM0ZTBmMTA1NjdjYWU1ODk5YWQ5NWY3MzgxMTM3YTMiLCJub25jZSI6IiIsImFwcF9pZCI6IlRBWjI4N1RaVUEiLCJ1dWlkIjoiN2U1NmE1YTlhNGI1NDg4ZmI5YTdkMmJlNjk1NTAyOTAiLCJpcEFkZHIiOiIwLjAuMC4wIiwic2NvcGUiOiIifQ.nk-V9aFA58SkD5wY0IDWlsV5by0o4iHDBe1gHpiXilg'"
   ]
  },
  {
   "cell_type": "code",
   "execution_count": 5,
   "metadata": {},
   "outputs": [
    {
     "name": "stdout",
     "output_type": "stream",
     "text": [
      "{'s': 'ok', 'code': 200, 'message': '', 'access_token': 'eyJ0eXAiOiJKV1QiLCJhbGciOiJIUzI1NiJ9.eyJpc3MiOiJhcGkuZnllcnMuaW4iLCJpYXQiOjE2OTYwNjA3MDUsImV4cCI6MTY5NjEyMDIyNSwibmJmIjoxNjk2MDYwNzA1LCJhdWQiOlsieDowIiwieDoxIiwieDoyIiwiZDoxIiwiZDoyIiwieDoxIiwieDowIl0sInN1YiI6ImFjY2Vzc190b2tlbiIsImF0X2hhc2giOiJnQUFBQUFCbEY5VWhhckFEX0hQREh3cU5iOURpVWdDNUNCNm8yWVljVWk5WmwwaVpWNXBLX1lHd1pjU3dfSHZTcWRVNUw0VVk1OE1nNHduN1d0M2FpOUEwUXBVUF9FMzJKQXhYWDVmU3F5ekRVYl8zQm9CNDhubz0iLCJkaXNwbGF5X25hbWUiOiJNT0hBTU1FRCBSQVlZQU4gU0FJVCIsIm9tcyI6IksxIiwiaHNtX2tleSI6IjViNzM4N2U2MThkMzg5ZTRlYzhlZmY1NTgzNGUwZjEwNTY3Y2FlNTg5OWFkOTVmNzM4MTEzN2EzIiwiZnlfaWQiOiJYTTA0MzQyIiwiYXBwVHlwZSI6MTAwLCJwb2FfZmxhZyI6Ik4ifQ.ezffwTYpNMdgqKxkUYDCUgAxIgeCKG0bMrNakUamT8g', 'refresh_token': 'eyJ0eXAiOiJKV1QiLCJhbGciOiJIUzI1NiJ9.eyJpc3MiOiJhcGkuZnllcnMuaW4iLCJpYXQiOjE2OTYwNjA3MDUsImV4cCI6MTY5NzMyOTgyNSwibmJmIjoxNjk2MDYwNzA1LCJhdWQiOlsieDowIiwieDoxIiwieDoyIiwiZDoxIiwiZDoyIiwieDoxIiwieDowIl0sInN1YiI6InJlZnJlc2hfdG9rZW4iLCJhdF9oYXNoIjoiZ0FBQUFBQmxGOVVoYXJBRF9IUERId3FOYjlEaVVnQzVDQjZvMllZY1VpOVpsMGlaVjVwS19ZR3daY1N3X0h2U3FkVTVMNFVZNThNZzR3bjdXdDNhaTlBMFFwVVBfRTMySkF4WFg1ZlNxeXpEVWJfM0JvQjQ4bm89IiwiZGlzcGxheV9uYW1lIjoiTU9IQU1NRUQgUkFZWUFOIFNBSVQiLCJvbXMiOiJLMSIsImhzbV9rZXkiOiI1YjczODdlNjE4ZDM4OWU0ZWM4ZWZmNTU4MzRlMGYxMDU2N2NhZTU4OTlhZDk1ZjczODExMzdhMyIsImZ5X2lkIjoiWE0wNDM0MiIsImFwcFR5cGUiOjEwMCwicG9hX2ZsYWciOiJOIn0.nA-g-PLZNq_dnrjHqqZ1JAvVxiIAmSvYxy_gK8V6dk0'}\n"
     ]
    }
   ],
   "source": [
    "session.set_token(auth_code)\n",
    "response = session.generate_token()\n",
    "print(response)"
   ]
  },
  {
   "cell_type": "code",
   "execution_count": 6,
   "metadata": {},
   "outputs": [],
   "source": [
    "access_token=response['access_token']"
   ]
  },
  {
   "cell_type": "code",
   "execution_count": 7,
   "metadata": {},
   "outputs": [],
   "source": [
    "def sma(df: pd.DataFrame):\n",
    "    small_lookback = 5\n",
    "    df['mean'] = df['closingValues'].ewm(span=5).mean()\n",
    "    window = 10  # You can adjust this window size as needed\n",
    "    std_dev_multiplier = 1.5  # Multiplier for standard deviation\n",
    "\n",
    "    # Calculate the rolling mean (SMA) and rolling standard deviation\n",
    "    df['SMA'] = df['candleStick'].apply(lambda x: pd.Series(x[4])).rolling(window=window).mean()\n",
    "    df['StdDev'] = df['candleStick'].apply(lambda x: pd.Series(x[4])).rolling(window=window).std()\n",
    "\n",
    "    # Calculate the upper and lower Bollinger Bands\n",
    "    df['Upper_Band'] = df['SMA'] + (std_dev_multiplier * df['StdDev'])\n",
    "    df['Lower_Band'] = df['SMA'] - (std_dev_multiplier * df['StdDev'])\n",
    "\n"
   ]
  },
  {
   "cell_type": "code",
   "execution_count": 8,
   "metadata": {},
   "outputs": [],
   "source": [
    "\n",
    "\n",
    "\n",
    "def rsi_tradingview(ohlc: pd.DataFrame, period: int = 14, round_rsi: bool = True):\n",
    "    \"\"\" Implements the RSI indicator as defined by TradingView on March 15, 2021.\n",
    "        The TradingView code is as follows:\n",
    "        //@version=4\n",
    "        study(title=\"Relative Strength Index\", shorttitle=\"RSI\", format=format.price, precision=2, resolution=\"\")\n",
    "        len = input(14, minval=1, title=\"Length\")\n",
    "        src = input(close, \"Source\", type = input.source)\n",
    "        up = rma(max(change(src), 0), len)\n",
    "        down = rma(-min(change(src), 0), len)\n",
    "        rsi = down == 0 ? 100 : up == 0 ? 0 : 100 - (100 / (1 + up / down))\n",
    "        plot(rsi, \"RSI\", color=#8E1599)\n",
    "        band1 = hline(70, \"Upper Band\", color=#C0C0C0)\n",
    "        band0 = hline(30, \"Lower Band\", color=#C0C0C0)\n",
    "        fill(band1, band0, color=#9915FF, transp=90, title=\"Background\")\n",
    "\n",
    "    :param ohlc:\n",
    "    :param period:\n",
    "    :param round_rsi:\n",
    "    :return: an array with the RSI indicator values\n",
    "    \"\"\"\n",
    "\n",
    "    delta = ohlc[\"closingValues\"].diff()\n",
    "\n",
    "    up = delta.copy()\n",
    "    up[up < 0] = 0\n",
    "    up = pd.Series.ewm(up, alpha=1/period).mean()\n",
    "\n",
    "    down = delta.copy()\n",
    "    down[down > 0] = 0\n",
    "    down *= -1\n",
    "    down = pd.Series.ewm(down, alpha=1/period).mean()\n",
    "\n",
    "    rsi = np.where(up == 0, 0, np.where(down == 0, 100, 100 - (100 / (1 + up / down))))\n",
    "\n",
    "    return np.round(rsi, 2) if round_rsi else rsi"
   ]
  },
  {
   "cell_type": "code",
   "execution_count": 9,
   "metadata": {},
   "outputs": [],
   "source": [
    "def stoch_rsi_tradingview(ohlc: pd.DataFrame, period=14, smoothK=3, smoothD=3):\n",
    "    \"\"\" Calculating Stochastic RSI (gives the same values as TradingView as of March 20, 2021.\n",
    "        smoothK = input(3, \"K\", minval=1)\n",
    "        smoothD = input(3, \"D\", minval=1)\n",
    "        lengthRSI = input(14, \"RSI Length\", minval=1)\n",
    "        lengthStoch = input(14, \"Stochastic Length\", minval=1)\n",
    "        src = input(close, title=\"RSI Source\")\n",
    "        rsi1 = rsi(src, lengthRSI)\n",
    "        k = sma(stoch(rsi1, rsi1, rsi1, lengthStoch), smoothK)\n",
    "        d = sma(k, smoothD)\n",
    "\n",
    "    :param ohlc:\n",
    "    :param period:\n",
    "    :param smoothK:\n",
    "    :param smoothD:\n",
    "    :return:\n",
    "    \"\"\"\n",
    "    # Calculate RSI\n",
    "    rsi = rsi_tradingview(ohlc, period=period, round_rsi=False)\n",
    "\n",
    "    # Calculate StochRSI\n",
    "    rsi = pd.Series(rsi)\n",
    "    stochrsi  = (rsi - rsi.rolling(period).min()) / (rsi.rolling(period).max() - rsi.rolling(period).min())\n",
    "    stochrsi_K = stochrsi.rolling(smoothK).mean()\n",
    "    stochrsi_D = stochrsi_K.rolling(smoothD).mean()\n",
    "    ohlc['stochrsi_K']=round(stochrsi_K * 100, 2)\n",
    "    ohlc['stochrsi_D']=round(stochrsi_D * 100, 2)\n",
    "    "
   ]
  },
  {
   "cell_type": "code",
   "execution_count": null,
   "metadata": {},
   "outputs": [],
   "source": []
  },
  {
   "cell_type": "code",
   "execution_count": 10,
   "metadata": {},
   "outputs": [],
   "source": [
    "def trader(df: pd.DataFrame,index,symbol,tradeValues):\n",
    "    print('Here')\n",
    "    print(tradeValues[symbol])\n",
    "    if(str(datetime.datetime.fromtimestamp(df['candleStick'][index][0]).time())=='15:15:00'):\n",
    "        print('StopLoss on '+str(datetime.datetime.fromtimestamp(df['candleStick'][index][0]))+' hit '+str(tradeValues[symbol]['stopLossCounterForDay'])+' times')\n",
    "        tradeValues[symbol]['stopLossCounterForDay']=0\n",
    "    #Sells everything if already bought a stock EOD\n",
    "    if(tradeValues[symbol]['buying']==1):\n",
    "        if(str(datetime.datetime.fromtimestamp(df['candleStick'][index][0]).time())=='15:15:00'):\n",
    "            \n",
    "            print(symbol+' EOD Exit at '+str(df['candleStick'][index][4]))\n",
    "            tradeValues[symbol]['eodCounter']=tradeValues[symbol]['eodCounter']+((df['candleStick'][index][4]-tradeValues[symbol]['buyPrice'])/(tradeValues[symbol]['buyPrice']-tradeValues[symbol]['stopLoss']))\n",
    "            tradeValues[symbol]['counter']=0\n",
    "            tradeValues[symbol]['buyPrice']=-420\n",
    "            tradeValues[symbol]['stopLoss']=-420\n",
    "            tradeValues[symbol]['reward']=3\n",
    "            tradeValues[symbol]['buying']=0\n",
    "    if(tradeValues[symbol]['stopLossCounterForDay']<2):\n",
    "        if not math.isnan(df['mean'][index] ):\n",
    "            print(df['mean'][index])\n",
    "            print(df['candleStick'][index])\n",
    "            if not((df['mean'][index]<= df['candleStick'][index][2]) and (df['mean'][index]>= df['candleStick'][index][3])):\n",
    "                #Checks for reference candles\n",
    "                if(tradeValues[symbol]['buying']!=1):\n",
    "                    if(df['mean'][index]>df['candleStick'][index][2] and df['Lower_Band'][index]>=df['candleStick'][index][3]):\n",
    "                        print(symbol+' Reference Candle '+str(datetime.datetime.fromtimestamp(df['candleStick'][index][0])))\n",
    "                        tradeValues[symbol]['buyPrice']=df['candleStick'][index][2]\n",
    "                        tradeValues[symbol]['stopLoss']=df['candleStick'][index][3]-0.2\n",
    "            else:\n",
    "                if(tradeValues[symbol]['buyPrice']!=-420 and tradeValues[symbol]['stopLoss']!=-420):\n",
    "                    #Buy Order\n",
    "                    targetPrice=tradeValues[symbol]['buyPrice']+((tradeValues[symbol]['buyPrice']-tradeValues[symbol]['stopLoss'])*tradeValues[symbol]['reward'])\n",
    "                    if(tradeValues[symbol]['buying']==0):\n",
    "                        print(symbol+' Buy Triggered at '+str(tradeValues[symbol]['buyPrice'])+' '+str(datetime.datetime.fromtimestamp(df['candleStick'][index][0])))\n",
    "                        tradeValues[symbol]['buying']=1\n",
    "                        \n",
    "                    #stoploss hit    \n",
    "                    elif(df['candleStick'][index][3]<=tradeValues[symbol]['stopLoss']):\n",
    "                        print(symbol+' SL hit at '+str(tradeValues[symbol]['stopLoss'])+' '+str(datetime.datetime.fromtimestamp(df['candleStick'][index][0])))\n",
    "                        tradeValues[symbol]['stopLossCounterForDay']=tradeValues[symbol]['stopLossCounterForDay']+1\n",
    "                        tradeValues[symbol]['buying']=0\n",
    "                        tradeValues[symbol]['buyPrice']=-420\n",
    "                        tradeValues[symbol]['stopLoss']=-420\n",
    "                        tradeValues[symbol]['slCounter']=tradeValues[symbol]['slCounter']+1\n",
    "                        \n",
    "                    #Sells if made more then 1:3 and meets stochrsi indicator condition\n",
    "                    elif (df['candleStick'][index][2]>=targetPrice and df['stochrsi_K'][index]<=df['stochrsi_D'][index]):\n",
    "                        tradeValues[symbol]['buying']=0\n",
    "                        print(symbol+' TP hit at '+str(df['candleStick'][index][2])+' '+str(datetime.datetime.fromtimestamp(df['candleStick'][index][0])))\n",
    "                        #tpCounter=tpCounter+1\n",
    "                        tradeValues[symbol]['tpCounter']=tradeValues[symbol]['tpCounter']+((df['candleStick'][index][4]-tradeValues[symbol]['buyPrice'])/(tradeValues[symbol]['buyPrice']-tradeValues[symbol]['stopLoss']))\n",
    "                        tradeValues[symbol]['buyPrice']=-420\n",
    "                        tradeValues[symbol]['stopLoss']=-420\n",
    "                    \n"
   ]
  },
  {
   "cell_type": "code",
   "execution_count": 11,
   "metadata": {},
   "outputs": [
    {
     "name": "stdout",
     "output_type": "stream",
     "text": [
      "TAZ287TZUA-100:eyJ0eXAiOiJKV1QiLCJhbGciOiJIUzI1NiJ9.eyJpc3MiOiJhcGkuZnllcnMuaW4iLCJpYXQiOjE2OTYwNjA3MDUsImV4cCI6MTY5NjEyMDIyNSwibmJmIjoxNjk2MDYwNzA1LCJhdWQiOlsieDowIiwieDoxIiwieDoyIiwiZDoxIiwiZDoyIiwieDoxIiwieDowIl0sInN1YiI6ImFjY2Vzc190b2tlbiIsImF0X2hhc2giOiJnQUFBQUFCbEY5VWhhckFEX0hQREh3cU5iOURpVWdDNUNCNm8yWVljVWk5WmwwaVpWNXBLX1lHd1pjU3dfSHZTcWRVNUw0VVk1OE1nNHduN1d0M2FpOUEwUXBVUF9FMzJKQXhYWDVmU3F5ekRVYl8zQm9CNDhubz0iLCJkaXNwbGF5X25hbWUiOiJNT0hBTU1FRCBSQVlZQU4gU0FJVCIsIm9tcyI6IksxIiwiaHNtX2tleSI6IjViNzM4N2U2MThkMzg5ZTRlYzhlZmY1NTgzNGUwZjEwNTY3Y2FlNTg5OWFkOTVmNzM4MTEzN2EzIiwiZnlfaWQiOiJYTTA0MzQyIiwiYXBwVHlwZSI6MTAwLCJwb2FfZmxhZyI6Ik4ifQ.ezffwTYpNMdgqKxkUYDCUgAxIgeCKG0bMrNakUamT8g\n"
     ]
    },
    {
     "ename": "",
     "evalue": "",
     "output_type": "error",
     "traceback": [
      "\u001b[1;31mThe Kernel crashed while executing code in the the current cell or a previous cell. Please review the code in the cell(s) to identify a possible cause of the failure. Click <a href='https://aka.ms/vscodeJupyterKernelCrash'>here</a> for more info. View Jupyter <a href='command:jupyter.viewOutput'>log</a> for further details."
     ]
    }
   ],
   "source": [
    "\n",
    "symbols=[\"MCX:CRUDEOIL23OCTFUT\"]\n",
    "presentCandleStick={}\n",
    "candleSticks={}\n",
    "closingValues={}\n",
    "valuesForDataframe={}\n",
    "dataframes={}\n",
    "candleStickLength=5\n",
    "lengthOfDF={}\n",
    "tradeValues={}\n",
    "for symbol in symbols:\n",
    "    presentCandleStick[symbol]=[-420]\n",
    "    candleSticks[symbol]=[]\n",
    "    closingValues[symbol]=[]\n",
    "    valuesForDataframe[symbol]={}\n",
    "    lengthOfDF[symbol]=0\n",
    "    tradeValues[symbol]={'counter':0,'buyPrice':-420,'stopLoss':-420,'reward':3,'buying':0,'slCounter':0,'tpCounter':0,'eodCounter':0,'stopLossCounterForDay':0}\n",
    "\n",
    "def run_process_order_update(access_token):\n",
    "    data_type = \"symbolData\"\n",
    "    print(access_token)\n",
    "    fs = ws.FyersSocket(access_token=access_token,log_path=os.getcwd())\n",
    "    fs.websocket_data = custom_message\n",
    "    fs.subscribe(symbol=symbols,data_type=data_type)\n",
    "    fs.keep_running()\n",
    "\n",
    "\n",
    "def custom_message(msg): \n",
    "\n",
    "    global candleSticks\n",
    "    global presentCandleStick\n",
    "    global candleStickLength\n",
    "    global closingValues\n",
    "    global valuesForDataframe\n",
    "    global dataframes\n",
    "    global tradeValues\n",
    "    print(msg[0])\n",
    "    try:\n",
    "            if(presentCandleStick[msg[0]['symbol']][0]==-420):\n",
    "                presentCandleStick[msg[0]['symbol']].append(msg[0]['ltp'])\n",
    "                presentCandleStick[msg[0]['symbol']].append(msg[0]['ltp'])\n",
    "                presentCandleStick[msg[0]['symbol']].append(msg[0]['ltp'])\n",
    "                presentCandleStick[msg[0]['symbol']][0]=msg[0]['timestamp']+(candleStickLength*60)\n",
    "            else:\n",
    "                if(msg[0]['timestamp']>=presentCandleStick[msg[0]['symbol']][0]):\n",
    "                    presentCandleStick[msg[0]['symbol']].append(msg[0]['ltp'])\n",
    "                    if(msg[0]['ltp']>presentCandleStick[msg[0]['symbol']][2]):\n",
    "                        presentCandleStick[msg[0]['symbol']][2]=msg[0]['ltp']\n",
    "                    if(msg[0]['ltp']<presentCandleStick[msg[0]['symbol']][3]):\n",
    "                        presentCandleStick[msg[0]['symbol']][3]=msg[0]['ltp']\n",
    "                    candleSticks[msg[0]['symbol']].append(presentCandleStick[msg[0]['symbol']])\n",
    "                    closingValues[msg[0]['symbol']].append(presentCandleStick[msg[0]['symbol']][4])\n",
    "                    valuesForDataframe[msg[0]['symbol']]['closingValues']=closingValues[msg[0]['symbol']]\n",
    "                    valuesForDataframe[msg[0]['symbol']]['candleStick']=candleSticks[msg[0]['symbol']]\n",
    "                    dataframes[msg[0]['symbol']]=pd.DataFrame(valuesForDataframe[msg[0]['symbol']])\n",
    "                    sma(dataframes[msg[0]['symbol']])\n",
    "                    stoch_rsi_tradingview(dataframes[msg[0]['symbol']])\n",
    "                    trader(dataframes[msg[0]['symbol']],(lengthOfDF[msg[0]['symbol']]),msg[0]['symbol'],tradeValues)\n",
    "                    lengthOfDF[msg[0]['symbol']]=lengthOfDF[msg[0]['symbol']]+1\n",
    "                    print('CandleStick at '+str(presentCandleStick[msg[0]['symbol']][0])+' for '+msg[0]['symbol']+':'+str(presentCandleStick[msg[0]['symbol']][1])+' '+str(presentCandleStick[msg[0]['symbol']][2])+' '+str(presentCandleStick[msg[0]['symbol']][3])+' '+str(presentCandleStick[msg[0]['symbol']][4]))\n",
    "                    presentCandleStick[msg[0]['symbol']]=[-420]\n",
    "                else:\n",
    "                    if(msg[0]['ltp']>presentCandleStick[msg[0]['symbol']][2]):\n",
    "                        presentCandleStick[msg[0]['symbol']][2]=msg[0]['ltp']\n",
    "                    if(msg[0]['ltp']<presentCandleStick[msg[0]['symbol']][3]):\n",
    "                        presentCandleStick[msg[0]['symbol']][3]=msg[0]['ltp']\n",
    "    except Exception as e: \n",
    "        print(e)\n",
    "        exit()\n",
    "\n",
    "\n",
    "def main():\n",
    "    token_to_use = f\"{client_id}:{access_token}\"\n",
    "    run_process_order_update(token_to_use)\n",
    "\n",
    "\n",
    "if __name__ == '__main__':\n",
    "  main()\n",
    "\n",
    "\n",
    "\n",
    "\n"
   ]
  },
  {
   "cell_type": "code",
   "execution_count": null,
   "metadata": {},
   "outputs": [],
   "source": []
  }
 ],
 "metadata": {
  "kernelspec": {
   "display_name": "Python 3",
   "language": "python",
   "name": "python3"
  },
  "language_info": {
   "codemirror_mode": {
    "name": "ipython",
    "version": 3
   },
   "file_extension": ".py",
   "mimetype": "text/x-python",
   "name": "python",
   "nbconvert_exporter": "python",
   "pygments_lexer": "ipython3",
   "version": "3.11.4"
  },
  "orig_nbformat": 4
 },
 "nbformat": 4,
 "nbformat_minor": 2
}
