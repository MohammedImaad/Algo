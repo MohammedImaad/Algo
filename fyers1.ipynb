{
 "cells": [
  {
   "cell_type": "code",
   "execution_count": 2,
   "metadata": {},
   "outputs": [],
   "source": [
    "from fyers_api import accessToken\n",
    "from fyers_api.Websocket import ws\n",
    "import pandas as pd\n",
    "\n",
    "\n"
   ]
  },
  {
   "cell_type": "code",
   "execution_count": 3,
   "metadata": {},
   "outputs": [],
   "source": [
    "client_id='TAZ287TZUA-100'\n",
    "secret_id='PPZ5ZG1YAR'\n",
    "url='https://www.google.com/'\n",
    "response_type = \"code\"\n",
    "grant_type = \"authorization_code\""
   ]
  },
  {
   "cell_type": "code",
   "execution_count": 4,
   "metadata": {},
   "outputs": [
    {
     "name": "stdout",
     "output_type": "stream",
     "text": [
      "https://api.fyers.in/api/v2/generate-authcode?client_id=TAZ287TZUA-100&redirect_uri=https%3A%2F%2Fwww.google.com%2F&response_type=code&state=None\n"
     ]
    }
   ],
   "source": [
    "\n",
    "\n",
    "session=accessToken.SessionModel(\n",
    "    client_id=client_id,\n",
    "    secret_key=secret_id,\n",
    "    redirect_uri=url, \n",
    "    response_type=response_type,\n",
    "    grant_type=grant_type\n",
    ")\n",
    "\n",
    "response = session.generate_authcode()\n",
    "print(response)\n",
    "\n"
   ]
  },
  {
   "cell_type": "code",
   "execution_count": 5,
   "metadata": {},
   "outputs": [],
   "source": [
    "auth_code='eyJ0eXAiOiJKV1QiLCJhbGciOiJIUzI1NiJ9.eyJpc3MiOiJhcGkubG9naW4uZnllcnMuaW4iLCJpYXQiOjE2OTU3NDE0MTEsImV4cCI6MTY5NTc3MTQxMSwibmJmIjoxNjk1NzQwODExLCJhdWQiOiJbXCJ4OjBcIiwgXCJ4OjFcIiwgXCJ4OjJcIiwgXCJkOjFcIiwgXCJkOjJcIiwgXCJ4OjFcIiwgXCJ4OjBcIl0iLCJzdWIiOiJhdXRoX2NvZGUiLCJkaXNwbGF5X25hbWUiOiJYTTA0MzQyIiwib21zIjoiSzEiLCJoc21fa2V5IjoiNWI3Mzg3ZTYxOGQzODllNGVjOGVmZjU1ODM0ZTBmMTA1NjdjYWU1ODk5YWQ5NWY3MzgxMTM3YTMiLCJub25jZSI6IiIsImFwcF9pZCI6IlRBWjI4N1RaVUEiLCJ1dWlkIjoiNWUwNzYxYzQ0NjliNGZkM2EyNzgzZWVhZThjZjdkNzAiLCJpcEFkZHIiOiIwLjAuMC4wIiwic2NvcGUiOiIifQ.DK0WQjx3OHhSamF_yES6_zpPnamjSThQblbHL_r5zvA'"
   ]
  },
  {
   "cell_type": "code",
   "execution_count": 6,
   "metadata": {},
   "outputs": [
    {
     "name": "stdout",
     "output_type": "stream",
     "text": [
      "{'s': 'ok', 'code': 200, 'message': '', 'access_token': 'eyJ0eXAiOiJKV1QiLCJhbGciOiJIUzI1NiJ9.eyJpc3MiOiJhcGkuZnllcnMuaW4iLCJpYXQiOjE2OTU3NDE0MzAsImV4cCI6MTY5NTc3NDYxMCwibmJmIjoxNjk1NzQxNDMwLCJhdWQiOlsieDowIiwieDoxIiwieDoyIiwiZDoxIiwiZDoyIiwieDoxIiwieDowIl0sInN1YiI6ImFjY2Vzc190b2tlbiIsImF0X2hhc2giOiJnQUFBQUFCbEV2WDJLWEZwRm42T1JIRHFZRzI4bEs1aW9pSWw3S1RCdm5nRXlQMkhrOHNINVl6TXo4bU1CbjV4a0VBd1RZOWtseHk3WExrN3dTZzZwdXZES0hkT2FXQ2FaS2JYV0JqTERPZ3I1M2VsdXVVdWVUYz0iLCJkaXNwbGF5X25hbWUiOiJNT0hBTU1FRCBSQVlZQU4gU0FJVCIsIm9tcyI6IksxIiwiaHNtX2tleSI6IjViNzM4N2U2MThkMzg5ZTRlYzhlZmY1NTgzNGUwZjEwNTY3Y2FlNTg5OWFkOTVmNzM4MTEzN2EzIiwiZnlfaWQiOiJYTTA0MzQyIiwiYXBwVHlwZSI6MTAwLCJwb2FfZmxhZyI6Ik4ifQ.pLR2z-JEWLOc-ZCsi4J_VRbUiGNqonU5zSCFNJnxbsU', 'refresh_token': 'eyJ0eXAiOiJKV1QiLCJhbGciOiJIUzI1NiJ9.eyJpc3MiOiJhcGkuZnllcnMuaW4iLCJpYXQiOjE2OTU3NDE0MzAsImV4cCI6MTY5Njk4NDIxMCwibmJmIjoxNjk1NzQxNDMwLCJhdWQiOlsieDowIiwieDoxIiwieDoyIiwiZDoxIiwiZDoyIiwieDoxIiwieDowIl0sInN1YiI6InJlZnJlc2hfdG9rZW4iLCJhdF9oYXNoIjoiZ0FBQUFBQmxFdlgyS1hGcEZuNk9SSERxWUcyOGxLNWlvaUlsN0tUQnZuZ0V5UDJIazhzSDVZek16OG1NQm41eGtFQXdUWTlrbHh5N1hMazd3U2c2cHV2REtIZE9hV0NhWktiWFdCakxET2dyNTNlbHV1VXVlVGM9IiwiZGlzcGxheV9uYW1lIjoiTU9IQU1NRUQgUkFZWUFOIFNBSVQiLCJvbXMiOiJLMSIsImhzbV9rZXkiOiI1YjczODdlNjE4ZDM4OWU0ZWM4ZWZmNTU4MzRlMGYxMDU2N2NhZTU4OTlhZDk1ZjczODExMzdhMyIsImZ5X2lkIjoiWE0wNDM0MiIsImFwcFR5cGUiOjEwMCwicG9hX2ZsYWciOiJOIn0.maj48IrTzQYoLkbySr8wsU0S8YMuvOXS4qLfMi399oc'}\n"
     ]
    }
   ],
   "source": [
    "from fyers_api import accessToken\n",
    "\n",
    "\n",
    "session.set_token(auth_code)\n",
    "response = session.generate_token()\n",
    "print(response)\n",
    "\n"
   ]
  },
  {
   "cell_type": "code",
   "execution_count": 7,
   "metadata": {},
   "outputs": [],
   "source": [
    "access_token=response['access_token']"
   ]
  },
  {
   "cell_type": "code",
   "execution_count": 8,
   "metadata": {},
   "outputs": [
    {
     "data": {
      "text/plain": [
       "'eyJ0eXAiOiJKV1QiLCJhbGciOiJIUzI1NiJ9.eyJpc3MiOiJhcGkuZnllcnMuaW4iLCJpYXQiOjE2OTU3NDE0MzAsImV4cCI6MTY5NTc3NDYxMCwibmJmIjoxNjk1NzQxNDMwLCJhdWQiOlsieDowIiwieDoxIiwieDoyIiwiZDoxIiwiZDoyIiwieDoxIiwieDowIl0sInN1YiI6ImFjY2Vzc190b2tlbiIsImF0X2hhc2giOiJnQUFBQUFCbEV2WDJLWEZwRm42T1JIRHFZRzI4bEs1aW9pSWw3S1RCdm5nRXlQMkhrOHNINVl6TXo4bU1CbjV4a0VBd1RZOWtseHk3WExrN3dTZzZwdXZES0hkT2FXQ2FaS2JYV0JqTERPZ3I1M2VsdXVVdWVUYz0iLCJkaXNwbGF5X25hbWUiOiJNT0hBTU1FRCBSQVlZQU4gU0FJVCIsIm9tcyI6IksxIiwiaHNtX2tleSI6IjViNzM4N2U2MThkMzg5ZTRlYzhlZmY1NTgzNGUwZjEwNTY3Y2FlNTg5OWFkOTVmNzM4MTEzN2EzIiwiZnlfaWQiOiJYTTA0MzQyIiwiYXBwVHlwZSI6MTAwLCJwb2FfZmxhZyI6Ik4ifQ.pLR2z-JEWLOc-ZCsi4J_VRbUiGNqonU5zSCFNJnxbsU'"
      ]
     },
     "execution_count": 8,
     "metadata": {},
     "output_type": "execute_result"
    }
   ],
   "source": [
    "access_token"
   ]
  },
  {
   "cell_type": "code",
   "execution_count": 11,
   "metadata": {},
   "outputs": [],
   "source": [
    "from fyers_api import fyersModel\n"
   ]
  },
  {
   "cell_type": "code",
   "execution_count": 12,
   "metadata": {},
   "outputs": [],
   "source": [
    "import os\n",
    "fyers=fyersModel.FyersModel(client_id=client_id,token=access_token,log_path=os.getcwd())"
   ]
  },
  {
   "cell_type": "code",
   "execution_count": null,
   "metadata": {},
   "outputs": [],
   "source": [
    "fyers"
   ]
  },
  {
   "cell_type": "code",
   "execution_count": null,
   "metadata": {},
   "outputs": [],
   "source": [
    "data = {\n",
    "    \"symbol\":\"NSE:INFY-EQ\",\n",
    "    \"resolution\":\"5\",\n",
    "    \"date_format\":\"1\",\n",
    "    \"range_from\":\"2023-08-30\",\n",
    "    \"range_to\":\"2023-08-30\",\n",
    "    \"cont_flag\":\"1\"\n",
    "}\n",
    "\n",
    "response = fyers.history(data=data)"
   ]
  },
  {
   "cell_type": "code",
   "execution_count": null,
   "metadata": {},
   "outputs": [],
   "source": [
    "response['candles']\n"
   ]
  },
  {
   "cell_type": "code",
   "execution_count": null,
   "metadata": {},
   "outputs": [],
   "source": [
    "candleSticks=response['candles']"
   ]
  },
  {
   "cell_type": "code",
   "execution_count": null,
   "metadata": {},
   "outputs": [],
   "source": [
    "closingValues=[]\n",
    "\n",
    "for item in candleSticks:\n",
    "    if(item[2]>item[3]):\n",
    "        closingValues.append(item[2])\n",
    "    else:\n",
    "        closingValues.append(item[3])"
   ]
  },
  {
   "cell_type": "code",
   "execution_count": null,
   "metadata": {},
   "outputs": [],
   "source": [
    "valuesToPlot={'closingValues':closingValues}\n",
    "df = pd.DataFrame(valuesToPlot)"
   ]
  },
  {
   "cell_type": "code",
   "execution_count": null,
   "metadata": {},
   "outputs": [],
   "source": [
    "# calculating RSI (gives the same values as TradingView)\n",
    "# https://stackoverflow.com/questions/20526414/relative-strength-index-in-python-pandas\n",
    "def RSI(series, period=14):\n",
    "    delta = series.diff().dropna()\n",
    "    ups = delta * 0\n",
    "    downs = ups.copy()\n",
    "    ups[delta > 0] = delta[delta > 0]\n",
    "    downs[delta < 0] = -delta[delta < 0]\n",
    "    ups[ups.index[period-1]] = np.mean( ups[:period] ) #first value is sum of avg gains\n",
    "    ups = ups.drop(ups.index[:(period-1)])\n",
    "    downs[downs.index[period-1]] = np.mean( downs[:period] ) #first value is sum of avg losses\n",
    "    downs = downs.drop(downs.index[:(period-1)])\n",
    "    rs = ups.ewm(com=period-1,min_periods=0,adjust=False,ignore_na=False).mean() / \\\n",
    "         downs.ewm(com=period-1,min_periods=0,adjust=False,ignore_na=False).mean() \n",
    "    return 100 - 100 / (1 + rs)\n",
    "\n",
    "\n",
    "# calculating Stoch RSI (gives the same values as TradingView)\n",
    "# https://www.tradingview.com/wiki/Stochastic_RSI_(STOCH_RSI) \n",
    "def StochRSI(series, period=14, smoothK=3, smoothD=3):\n",
    "    # Calculate RSI \n",
    "    delta = series.diff().dropna()\n",
    "    ups = delta * 0\n",
    "    downs = ups.copy()\n",
    "    ups[delta > 0] = delta[delta > 0]\n",
    "    downs[delta < 0] = -delta[delta < 0]\n",
    "    ups[ups.index[period-1]] = np.mean( ups[:period] ) #first value is sum of avg gains\n",
    "    ups = ups.drop(ups.index[:(period-1)])\n",
    "    downs[downs.index[period-1]] = np.mean( downs[:period] ) #first value is sum of avg losses\n",
    "    downs = downs.drop(downs.index[:(period-1)])\n",
    "    rs = ups.ewm(com=period-1,min_periods=0,adjust=False,ignore_na=False).mean() / \\\n",
    "         downs.ewm(com=period-1,min_periods=0,adjust=False,ignore_na=False).mean() \n",
    "    rsi = 100 - 100 / (1 + rs)\n",
    "\n",
    "    # Calculate StochRSI \n",
    "    stochrsi  = (rsi - rsi.rolling(period).min()) / (rsi.rolling(period).max() - rsi.rolling(period).min())\n",
    "    stochrsi_K = stochrsi.rolling(smoothK).mean()\n",
    "    stochrsi_D = stochrsi_K.rolling(smoothD).mean()\n",
    "\n",
    "    return stochrsi, stochrsi_K, stochrsi_D\n",
    "\n",
    "\n",
    "# calculating Stoch RSI \n",
    "#  -- Same as the above function but uses EMA, not SMA\n",
    "def StochRSI_EMA(series, period=14, smoothK=3, smoothD=3):\n",
    "    # Calculate RSI \n",
    "    delta = series.diff().dropna()\n",
    "    ups = delta * 0\n",
    "    downs = ups.copy()\n",
    "    ups[delta > 0] = delta[delta > 0]\n",
    "    downs[delta < 0] = -delta[delta < 0]\n",
    "    ups[ups.index[period-1]] = np.mean( ups[:period] ) #first value is sum of avg gains\n",
    "    ups = ups.drop(ups.index[:(period-1)])\n",
    "    downs[downs.index[period-1]] = np.mean( downs[:period] ) #first value is sum of avg losses\n",
    "    downs = downs.drop(downs.index[:(period-1)])\n",
    "    rs = ups.ewm(com=period-1,min_periods=0,adjust=False,ignore_na=False).mean() / \\\n",
    "         downs.ewm(com=period-1,min_periods=0,adjust=False,ignore_na=False).mean() \n",
    "    rsi = 100 - 100 / (1 + rs)\n",
    "\n",
    "    # Calculate StochRSI \n",
    "    stochrsi  = (rsi - rsi.rolling(period).min()) / (rsi.rolling(period).max() - rsi.rolling(period).min())\n",
    "    stochrsi_K = stochrsi.ewm(span=smoothK).mean()\n",
    "    stochrsi_D = stochrsi_K.ewm(span=smoothD).mean()\n",
    "\n",
    "    return stochrsi, stochrsi_K, stochrsi_D"
   ]
  },
  {
   "cell_type": "code",
   "execution_count": null,
   "metadata": {},
   "outputs": [],
   "source": [
    "StochRSI(df['closingValues'])"
   ]
  },
  {
   "cell_type": "code",
   "execution_count": null,
   "metadata": {},
   "outputs": [],
   "source": [
    "import pandas as pd\n",
    "import numpy as np\n",
    "\n",
    "\n",
    "def rsi_tradingview(ohlc: pd.DataFrame, period: int = 14, round_rsi: bool = True):\n",
    "    \"\"\" Implements the RSI indicator as defined by TradingView on March 15, 2021.\n",
    "        The TradingView code is as follows:\n",
    "        //@version=4\n",
    "        study(title=\"Relative Strength Index\", shorttitle=\"RSI\", format=format.price, precision=2, resolution=\"\")\n",
    "        len = input(14, minval=1, title=\"Length\")\n",
    "        src = input(close, \"Source\", type = input.source)\n",
    "        up = rma(max(change(src), 0), len)\n",
    "        down = rma(-min(change(src), 0), len)\n",
    "        rsi = down == 0 ? 100 : up == 0 ? 0 : 100 - (100 / (1 + up / down))\n",
    "        plot(rsi, \"RSI\", color=#8E1599)\n",
    "        band1 = hline(70, \"Upper Band\", color=#C0C0C0)\n",
    "        band0 = hline(30, \"Lower Band\", color=#C0C0C0)\n",
    "        fill(band1, band0, color=#9915FF, transp=90, title=\"Background\")\n",
    "\n",
    "    :param ohlc:\n",
    "    :param period:\n",
    "    :param round_rsi:\n",
    "    :return: an array with the RSI indicator values\n",
    "    \"\"\"\n",
    "\n",
    "    delta = ohlc[\"closingValues\"].diff()\n",
    "\n",
    "    up = delta.copy()\n",
    "    up[up < 0] = 0\n",
    "    up = pd.Series.ewm(up, alpha=1/period).mean()\n",
    "\n",
    "    down = delta.copy()\n",
    "    down[down > 0] = 0\n",
    "    down *= -1\n",
    "    down = pd.Series.ewm(down, alpha=1/period).mean()\n",
    "\n",
    "    rsi = np.where(up == 0, 0, np.where(down == 0, 100, 100 - (100 / (1 + up / down))))\n",
    "\n",
    "    return np.round(rsi, 2) if round_rsi else rsi"
   ]
  },
  {
   "cell_type": "code",
   "execution_count": null,
   "metadata": {},
   "outputs": [],
   "source": [
    "rsi_tradingview(df)"
   ]
  },
  {
   "cell_type": "code",
   "execution_count": null,
   "metadata": {},
   "outputs": [],
   "source": [
    "import pandas as pd\n",
    "\n",
    "\n",
    "\n",
    "\n",
    "def stoch_rsi_tradingview(ohlc: pd.DataFrame, period=14, smoothK=3, smoothD=3):\n",
    "    \"\"\" Calculating Stochastic RSI (gives the same values as TradingView as of March 20, 2021.\n",
    "        smoothK = input(3, \"K\", minval=1)\n",
    "        smoothD = input(3, \"D\", minval=1)\n",
    "        lengthRSI = input(14, \"RSI Length\", minval=1)\n",
    "        lengthStoch = input(14, \"Stochastic Length\", minval=1)\n",
    "        src = input(close, title=\"RSI Source\")\n",
    "        rsi1 = rsi(src, lengthRSI)\n",
    "        k = sma(stoch(rsi1, rsi1, rsi1, lengthStoch), smoothK)\n",
    "        d = sma(k, smoothD)\n",
    "\n",
    "    :param ohlc:\n",
    "    :param period:\n",
    "    :param smoothK:\n",
    "    :param smoothD:\n",
    "    :return:\n",
    "    \"\"\"\n",
    "    # Calculate RSI\n",
    "    rsi = rsi_tradingview(ohlc, period=period, round_rsi=False)\n",
    "\n",
    "    # Calculate StochRSI\n",
    "    rsi = pd.Series(rsi)\n",
    "    stochrsi  = (rsi - rsi.rolling(period).min()) / (rsi.rolling(period).max() - rsi.rolling(period).min())\n",
    "    stochrsi_K = stochrsi.rolling(smoothK).mean()\n",
    "    stochrsi_D = stochrsi_K.rolling(smoothD).mean()\n",
    "\n",
    "    return round(rsi, 2), round(stochrsi_K * 100, 2), round(stochrsi_D * 100, 2)"
   ]
  },
  {
   "cell_type": "code",
   "execution_count": null,
   "metadata": {},
   "outputs": [],
   "source": [
    "stoch_rsi_tradingview(df)"
   ]
  },
  {
   "cell_type": "code",
   "execution_count": null,
   "metadata": {},
   "outputs": [],
   "source": [
    "df['closingValues']\n",
    "small_lookback = 5 \n",
    "long_lookback = 20\n",
    "\n",
    "df['mean'] = df['closingValues'].rolling(window = small_lookback ,min_periods = small_lookback).mean()\n",
    "df['mean_Long'] = df['closingValues'].rolling(window = long_lookback ,min_periods = long_lookback).mean()"
   ]
  },
  {
   "cell_type": "code",
   "execution_count": null,
   "metadata": {},
   "outputs": [],
   "source": [
    "df"
   ]
  },
  {
   "cell_type": "code",
   "execution_count": null,
   "metadata": {},
   "outputs": [],
   "source": []
  },
  {
   "cell_type": "code",
   "execution_count": null,
   "metadata": {},
   "outputs": [],
   "source": [
    "df['SMA_diff'] = df['mean'] - df['mean_Long']\n",
    "df['zero_line'] = 0\n",
    "\n",
    "df['Signal'] = 0\n",
    "dfForBuyingAndClosing={}\n",
    "buyingPrice=[]\n",
    "sellingPrice=[]"
   ]
  },
  {
   "cell_type": "code",
   "execution_count": null,
   "metadata": {},
   "outputs": [],
   "source": [
    "for index, row in df.iterrows(): \n",
    "    if index != 0 :\n",
    "        if df['SMA_diff'][index-1]<0 and df['SMA_diff'][index] >=0: \n",
    "            df['Signal'][index] =  \"SELL\"\n",
    "            sellingPrice.append(df['closingValues'][index])    \n",
    "            print(\"Selling at \"+str(df['closingValues'][index]))\n",
    "        elif df['SMA_diff'][index-1]>0 and df['SMA_diff'][index] <=0:\n",
    "            print(\"Buying at \"+str(df['closingValues'][index]))\n",
    "            buyingPrice.append(df['closingValues'][index])\n",
    "            df['Signal'][index] = \"BUY\""
   ]
  },
  {
   "cell_type": "code",
   "execution_count": null,
   "metadata": {},
   "outputs": [],
   "source": [
    "df"
   ]
  },
  {
   "cell_type": "code",
   "execution_count": null,
   "metadata": {},
   "outputs": [],
   "source": [
    "dfForBuyingAndClosing['buying']=buyingPrice\n",
    "dfForBuyingAndClosing['selling']=sellingPrice"
   ]
  },
  {
   "cell_type": "code",
   "execution_count": null,
   "metadata": {},
   "outputs": [],
   "source": [
    "dfForBuyingAndClosing\n"
   ]
  },
  {
   "cell_type": "code",
   "execution_count": null,
   "metadata": {},
   "outputs": [],
   "source": [
    "dfGraph=pd.DataFrame(dfForBuyingAndClosing)"
   ]
  },
  {
   "cell_type": "code",
   "execution_count": null,
   "metadata": {},
   "outputs": [],
   "source": [
    "dfGraph"
   ]
  },
  {
   "cell_type": "code",
   "execution_count": null,
   "metadata": {},
   "outputs": [],
   "source": [
    "dfGraph.plot()"
   ]
  },
  {
   "cell_type": "code",
   "execution_count": null,
   "metadata": {},
   "outputs": [],
   "source": [
    "dfForBuyingAndClosing"
   ]
  },
  {
   "cell_type": "code",
   "execution_count": null,
   "metadata": {},
   "outputs": [],
   "source": [
    "totalBuying=sum(dfForBuyingAndClosing['buying'])\n",
    "totalSelling=sum(dfForBuyingAndClosing['selling'])"
   ]
  },
  {
   "cell_type": "code",
   "execution_count": null,
   "metadata": {},
   "outputs": [],
   "source": [
    "profitPercentage=(totalSelling-totalBuying)*100"
   ]
  },
  {
   "cell_type": "code",
   "execution_count": null,
   "metadata": {},
   "outputs": [],
   "source": [
    "profitPercentage"
   ]
  },
  {
   "cell_type": "code",
   "execution_count": null,
   "metadata": {},
   "outputs": [],
   "source": [
    "totalSelling-totalBuying"
   ]
  },
  {
   "cell_type": "code",
   "execution_count": null,
   "metadata": {},
   "outputs": [],
   "source": [
    "array_for_database=[]\n",
    "fyers.get_profile()\n"
   ]
  },
  {
   "cell_type": "code",
   "execution_count": null,
   "metadata": {},
   "outputs": [],
   "source": [
    "df"
   ]
  },
  {
   "cell_type": "code",
   "execution_count": null,
   "metadata": {},
   "outputs": [],
   "source": [
    "plottingValues={'closingValues':df['closingValues'].tolist(),'mean':df['mean'].tolist(),'meanLong':df['mean_Long'].tolist()}\n",
    "dfToShow=pd.DataFrame(plottingValues)\n",
    "dfToShow.plot()"
   ]
  },
  {
   "cell_type": "code",
   "execution_count": null,
   "metadata": {},
   "outputs": [],
   "source": [
    "plottingValues"
   ]
  },
  {
   "cell_type": "code",
   "execution_count": null,
   "metadata": {},
   "outputs": [],
   "source": []
  },
  {
   "cell_type": "code",
   "execution_count": null,
   "metadata": {},
   "outputs": [],
   "source": []
  },
  {
   "cell_type": "code",
   "execution_count": null,
   "metadata": {},
   "outputs": [],
   "source": []
  },
  {
   "cell_type": "code",
   "execution_count": null,
   "metadata": {},
   "outputs": [],
   "source": []
  },
  {
   "cell_type": "code",
   "execution_count": null,
   "metadata": {},
   "outputs": [],
   "source": []
  },
  {
   "cell_type": "code",
   "execution_count": 17,
   "metadata": {},
   "outputs": [
    {
     "name": "stdout",
     "output_type": "stream",
     "text": [
      "TAZ287TZUA-100:eyJ0eXAiOiJKV1QiLCJhbGciOiJIUzI1NiJ9.eyJpc3MiOiJhcGkuZnllcnMuaW4iLCJpYXQiOjE2OTU3NDE0MzAsImV4cCI6MTY5NTc3NDYxMCwibmJmIjoxNjk1NzQxNDMwLCJhdWQiOlsieDowIiwieDoxIiwieDoyIiwiZDoxIiwiZDoyIiwieDoxIiwieDowIl0sInN1YiI6ImFjY2Vzc190b2tlbiIsImF0X2hhc2giOiJnQUFBQUFCbEV2WDJLWEZwRm42T1JIRHFZRzI4bEs1aW9pSWw3S1RCdm5nRXlQMkhrOHNINVl6TXo4bU1CbjV4a0VBd1RZOWtseHk3WExrN3dTZzZwdXZES0hkT2FXQ2FaS2JYV0JqTERPZ3I1M2VsdXVVdWVUYz0iLCJkaXNwbGF5X25hbWUiOiJNT0hBTU1FRCBSQVlZQU4gU0FJVCIsIm9tcyI6IksxIiwiaHNtX2tleSI6IjViNzM4N2U2MThkMzg5ZTRlYzhlZmY1NTgzNGUwZjEwNTY3Y2FlNTg5OWFkOTVmNzM4MTEzN2EzIiwiZnlfaWQiOiJYTTA0MzQyIiwiYXBwVHlwZSI6MTAwLCJwb2FfZmxhZyI6Ik4ifQ.pLR2z-JEWLOc-ZCsi4J_VRbUiGNqonU5zSCFNJnxbsU\n",
      "{'s': 'error', 'code': -300, 'message': 'Please provide a valid symbol'}\n",
      "<function custom_message at 0x000002B5C5734A40>\n"
     ]
    }
   ],
   "source": [
    "\n",
    "\n",
    "\n",
    "from fyers_api.Websocket import ws\n",
    "candleSticks=[]\n",
    "timeStamp=-420\n",
    "timeStampClose=-420\n",
    "open=-420\n",
    "high=-420\n",
    "low=-420\n",
    "close=-420\n",
    "def run_process_order_update(access_token):\n",
    "    data_type = \"symbolData\"\n",
    "    print(access_token)\n",
    "    fs = ws.FyersSocket(access_token=access_token,log_path=os.getcwd())\n",
    "    fs.websocket_data = custom_message\n",
    "    fs.subscribe(symbol=[\"MCX:SILVERMIC26SEPTFUT-MARGIN\"],data_type=data_type)\n",
    "    fs.keep_running()\n",
    "    print(fs.websocket_data)\n",
    "\n",
    "\n",
    "def custom_message(msg):\n",
    "    #print(timeStamp)\n",
    "    print (f\"Custom:{msg[0]}\")\n",
    "    print(timeStamp)\n",
    "    if(timeStamp==-420):\n",
    "        print('First Candlestick')\n",
    "        timeStamp=msg[0]['timestamp']\n",
    "        open=msg[0]['ltp']\n",
    "        high=msg[0]['ltp']\n",
    "        low=msg[0]['ltp']\n",
    "        timeStampClose=timeStamp+(5*60)\n",
    "    else:\n",
    "        if(msg[0]['timestamp']==timeStampClose):\n",
    "            close=msg[0]['ltp']\n",
    "            if(msg[0]['ltp']>high):\n",
    "                high=msg[0]['ltp']\n",
    "            if(msg[0]['ltp']<low):\n",
    "                low=msg[0]['ltp']\n",
    "            print('CandleStick:'+str(open)+' '+str(high)+' '+str(low)+' '+str(close))\n",
    "            \n",
    "            timeStamp=-420\n",
    "            timeStampClose=-420\n",
    "            open=-420\n",
    "            high=-420\n",
    "            low=-420\n",
    "            close=-420\n",
    "            \n",
    "\n",
    "        else:\n",
    "            if(msg[0]['ltp']>high):\n",
    "                high=msg[0]['ltp']\n",
    "            if(msg[0]['ltp']<low):\n",
    "                low=msg[0]['ltp']\n",
    "\n",
    "    \n",
    "\n",
    "\n",
    "def main():\n",
    "    token_to_use = f\"{client_id}:{access_token}\"\n",
    "    run_process_order_update(token_to_use)\n",
    "\n",
    "\n",
    "if __name__ == '__main__':\n",
    "  main()\n",
    "\n",
    "\n",
    "\n",
    "\n"
   ]
  },
  {
   "cell_type": "code",
   "execution_count": null,
   "metadata": {},
   "outputs": [],
   "source": [
    "import pandas as pd\n",
    "import numpy as np\n",
    "\n",
    "# Define the candlestick data\n",
    "candlestick_data = [\n",
    "    [1691034300, 1350.0, 1356.4, 1349.0, 1356.05, 358630],\n",
    "    # Add more candlestick data if needed\n",
    "]\n",
    "\n",
    "# Extract the closing prices from the candlestick data\n",
    "closing_prices = [candle[4] for candle in candlestick_data]\n",
    "\n",
    "def stochastic_rsi(data, length_rsi, length_stoch, smooth_k, smooth_d):\n",
    "    rsi = pd.Series(data).rsi(length=length_rsi)\n",
    "    rsi_k = pd.Series(rsi).rolling(window=length_stoch).mean()\n",
    "    rsi_d = pd.Series(rsi_k).rolling(window=smooth_k).mean()\n",
    "    return rsi_k, rsi_d\n",
    "\n",
    "# Define your input parameters\n",
    "lengthRSI = 14\n",
    "lengthStoch = 14\n",
    "smoothK = 3\n",
    "smoothD = 3\n",
    "\n",
    "# Calculate Stochastic RSI values\n",
    "k, d = stochastic_rsi(closing_prices, lengthRSI, lengthStoch, smoothK, smoothD)\n",
    "\n",
    "# Print the calculated Stochastic RSI values\n",
    "print(\"Stochastic RSI K values:\")\n",
    "print(k)\n",
    "print(\"\\nStochastic RSI D values:\")\n",
    "print(d)\n"
   ]
  },
  {
   "cell_type": "code",
   "execution_count": null,
   "metadata": {},
   "outputs": [],
   "source": [
    "\n",
    "\n"
   ]
  },
  {
   "cell_type": "code",
   "execution_count": null,
   "metadata": {},
   "outputs": [],
   "source": []
  }
 ],
 "metadata": {
  "kernelspec": {
   "display_name": "Python 3",
   "language": "python",
   "name": "python3"
  },
  "language_info": {
   "codemirror_mode": {
    "name": "ipython",
    "version": 3
   },
   "file_extension": ".py",
   "mimetype": "text/x-python",
   "name": "python",
   "nbconvert_exporter": "python",
   "pygments_lexer": "ipython3",
   "version": "3.11.4"
  },
  "orig_nbformat": 4
 },
 "nbformat": 4,
 "nbformat_minor": 2
}
