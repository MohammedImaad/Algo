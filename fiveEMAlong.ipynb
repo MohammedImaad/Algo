{
 "cells": [
  {
   "cell_type": "code",
   "execution_count": null,
   "metadata": {},
   "outputs": [],
   "source": []
  },
  {
   "cell_type": "code",
   "execution_count": 312,
   "metadata": {},
   "outputs": [],
   "source": [
    "from fyers_api import accessToken\n",
    "from fyers_api.Websocket import ws\n",
    "import pandas as pd\n",
    "from fyers_api import accessToken\n",
    "from fyers_api import fyersModel\n",
    "import os\n",
    "import math\n",
    "import datetime\n",
    "import csv\n",
    "import numpy as np"
   ]
  },
  {
   "cell_type": "code",
   "execution_count": 313,
   "metadata": {},
   "outputs": [],
   "source": [
    "client_id='TAZ287TZUA-100'\n",
    "secret_id='PPZ5ZG1YAR'\n",
    "url='https://www.google.com/'\n",
    "response_type = \"code\"\n",
    "grant_type = \"authorization_code\""
   ]
  },
  {
   "cell_type": "code",
   "execution_count": 314,
   "metadata": {},
   "outputs": [
    {
     "name": "stdout",
     "output_type": "stream",
     "text": [
      "https://api.fyers.in/api/v2/generate-authcode?client_id=TAZ287TZUA-100&redirect_uri=https%3A%2F%2Fwww.google.com%2F&response_type=code&state=None\n"
     ]
    }
   ],
   "source": [
    "session=accessToken.SessionModel(\n",
    "    client_id=client_id,\n",
    "    secret_key=secret_id,\n",
    "    redirect_uri=url, \n",
    "    response_type=response_type,\n",
    "    grant_type=grant_type\n",
    ")\n",
    "\n",
    "response = session.generate_authcode()\n",
    "print(response)"
   ]
  },
  {
   "cell_type": "code",
   "execution_count": 315,
   "metadata": {},
   "outputs": [],
   "source": [
    "auth_code='eyJ0eXAiOiJKV1QiLCJhbGciOiJIUzI1NiJ9.eyJpc3MiOiJhcGkubG9naW4uZnllcnMuaW4iLCJpYXQiOjE2OTgzMTQxODcsImV4cCI6MTY5ODM0NDE4NywibmJmIjoxNjk4MzEzNTg3LCJhdWQiOiJbXCJ4OjBcIiwgXCJ4OjFcIiwgXCJ4OjJcIiwgXCJkOjFcIiwgXCJkOjJcIiwgXCJ4OjFcIiwgXCJ4OjBcIl0iLCJzdWIiOiJhdXRoX2NvZGUiLCJkaXNwbGF5X25hbWUiOiJYTTA0MzQyIiwib21zIjoiSzEiLCJoc21fa2V5IjoiNWI3Mzg3ZTYxOGQzODllNGVjOGVmZjU1ODM0ZTBmMTA1NjdjYWU1ODk5YWQ5NWY3MzgxMTM3YTMiLCJub25jZSI6IiIsImFwcF9pZCI6IlRBWjI4N1RaVUEiLCJ1dWlkIjoiZWQzMjY5NmVkNzNiNDdkNGIzZDU5NGRlN2MyMTUyMGIiLCJpcEFkZHIiOiIwLjAuMC4wIiwic2NvcGUiOiIifQ.W0siBOjhCyLFLTU72KsD8lqnMj7av3-H93BXJNQCbeo'"
   ]
  },
  {
   "cell_type": "code",
   "execution_count": 316,
   "metadata": {},
   "outputs": [
    {
     "name": "stdout",
     "output_type": "stream",
     "text": [
      "{'s': 'ok', 'code': 200, 'message': '', 'access_token': 'eyJ0eXAiOiJKV1QiLCJhbGciOiJIUzI1NiJ9.eyJpc3MiOiJhcGkuZnllcnMuaW4iLCJpYXQiOjE2OTgzMTQyMDUsImV4cCI6MTY5ODM2NjY0NSwibmJmIjoxNjk4MzE0MjA1LCJhdWQiOlsieDowIiwieDoxIiwieDoyIiwiZDoxIiwiZDoyIiwieDoxIiwieDowIl0sInN1YiI6ImFjY2Vzc190b2tlbiIsImF0X2hhc2giOiJnQUFBQUFCbE9qZmRwODI0N0tpNi1aMXNzVGJremJqQkt5UDRwRjF0Y2xDYmIyWWNqaEh3MFFQUWtkUlJscWVDUFlqVjE1SEl6bkVRd0pXbVg4ZUdnOHJpdU5zOGl2aU9YTGIwck9XOHhrN1ZUcFRCZ1pJUnRYbz0iLCJkaXNwbGF5X25hbWUiOiJNT0hBTU1FRCBSQVlZQU4gU0FJVCIsIm9tcyI6IksxIiwiaHNtX2tleSI6IjViNzM4N2U2MThkMzg5ZTRlYzhlZmY1NTgzNGUwZjEwNTY3Y2FlNTg5OWFkOTVmNzM4MTEzN2EzIiwiZnlfaWQiOiJYTTA0MzQyIiwiYXBwVHlwZSI6MTAwLCJwb2FfZmxhZyI6Ik4ifQ.2qZOWnjeo58sFANaXzc1XKMlJdsUGa23Ic6MRUW45og', 'refresh_token': 'eyJ0eXAiOiJKV1QiLCJhbGciOiJIUzI1NiJ9.eyJpc3MiOiJhcGkuZnllcnMuaW4iLCJpYXQiOjE2OTgzMTQyMDUsImV4cCI6MTY5OTU3NjI0NSwibmJmIjoxNjk4MzE0MjA1LCJhdWQiOlsieDowIiwieDoxIiwieDoyIiwiZDoxIiwiZDoyIiwieDoxIiwieDowIl0sInN1YiI6InJlZnJlc2hfdG9rZW4iLCJhdF9oYXNoIjoiZ0FBQUFBQmxPamZkcDgyNDdLaTYtWjFzc1Ria3piakJLeVA0cEYxdGNsQ2JiMlljamhIdzBRUFFrZFJSbHFlQ1BZalYxNUhJem5FUXdKV21YOGVHZzhyaXVOczhpdmlPWExiMHJPVzh4azdWVHBUQmdaSVJ0WG89IiwiZGlzcGxheV9uYW1lIjoiTU9IQU1NRUQgUkFZWUFOIFNBSVQiLCJvbXMiOiJLMSIsImhzbV9rZXkiOiI1YjczODdlNjE4ZDM4OWU0ZWM4ZWZmNTU4MzRlMGYxMDU2N2NhZTU4OTlhZDk1ZjczODExMzdhMyIsImZ5X2lkIjoiWE0wNDM0MiIsImFwcFR5cGUiOjEwMCwicG9hX2ZsYWciOiJOIn0.1-h69SpA1MBvO8LUtRQmMP1fPOCU5IxLpYJ1WgPN-Uo'}\n"
     ]
    }
   ],
   "source": [
    "session.set_token(auth_code)\n",
    "response = session.generate_token()\n",
    "print(response)"
   ]
  },
  {
   "cell_type": "code",
   "execution_count": 317,
   "metadata": {},
   "outputs": [],
   "source": [
    "access_token=response['access_token']"
   ]
  },
  {
   "cell_type": "code",
   "execution_count": 318,
   "metadata": {},
   "outputs": [],
   "source": [
    "fyers=fyersModel.FyersModel(client_id=client_id,token=access_token,log_path=os.getcwd())"
   ]
  },
  {
   "cell_type": "code",
   "execution_count": 319,
   "metadata": {},
   "outputs": [
    {
     "name": "stdout",
     "output_type": "stream",
     "text": [
      "{'s': 'ok', 'candles': [[1698291900, 3368.05, 3373.7, 3362.35, 3363.95, 80833], [1698292200, 3363.9, 3365.95, 3356.0, 3358.15, 43763], [1698292500, 3358.05, 3362.7, 3358.05, 3359.2, 44434], [1698292800, 3359.4, 3367.75, 3359.2, 3367.75, 34557], [1698293100, 3367.8, 3372.0, 3360.0, 3361.1, 39649], [1698293400, 3361.1, 3362.2, 3352.95, 3354.4, 43294], [1698293700, 3354.2, 3359.65, 3351.5, 3359.6, 26300], [1698294000, 3359.6, 3363.65, 3359.0, 3361.5, 21002], [1698294300, 3361.5, 3364.0, 3360.05, 3362.4, 26624], [1698294600, 3362.4, 3363.1, 3356.0, 3357.1, 46359], [1698294900, 3357.35, 3358.35, 3353.8, 3356.55, 23935], [1698295200, 3356.2, 3361.0, 3354.0, 3355.4, 24667], [1698295500, 3355.5, 3356.45, 3351.0, 3353.05, 23293], [1698295800, 3352.75, 3353.7, 3346.0, 3347.05, 37973], [1698296100, 3347.05, 3348.9, 3345.6, 3346.85, 13835], [1698296400, 3347.5, 3348.65, 3345.0, 3346.1, 26564], [1698296700, 3346.1, 3347.15, 3341.6, 3344.25, 23139], [1698297000, 3344.25, 3346.5, 3342.6, 3344.5, 20616], [1698297300, 3344.5, 3345.35, 3341.5, 3342.8, 12880], [1698297600, 3342.75, 3342.75, 3337.0, 3337.45, 22722], [1698297900, 3337.5, 3339.15, 3333.0, 3336.5, 31112], [1698298200, 3336.0, 3337.0, 3333.0, 3336.9, 17867], [1698298500, 3336.95, 3340.5, 3335.35, 3340.5, 13587], [1698298800, 3340.5, 3341.3, 3335.4, 3335.4, 11453], [1698299100, 3336.0, 3340.6, 3335.0, 3340.0, 17543], [1698299400, 3339.1, 3341.75, 3337.45, 3338.4, 16532], [1698299700, 3338.2, 3342.15, 3337.15, 3339.9, 18184], [1698300000, 3339.85, 3344.45, 3337.0, 3338.8, 42997], [1698300300, 3338.0, 3346.0, 3338.0, 3343.8, 21404], [1698300600, 3343.1, 3348.8, 3343.05, 3345.95, 18769], [1698300900, 3346.15, 3351.1, 3345.55, 3348.85, 21137], [1698301200, 3348.6, 3351.5, 3347.6, 3349.3, 11231], [1698301500, 3348.75, 3350.95, 3346.55, 3347.05, 11945], [1698301800, 3348.0, 3350.0, 3346.0, 3348.9, 18371], [1698302100, 3348.15, 3349.5, 3343.0, 3345.05, 17143], [1698302400, 3343.55, 3345.05, 3340.0, 3342.95, 11407], [1698302700, 3343.0, 3343.3, 3339.2, 3341.0, 13440], [1698303000, 3340.0, 3341.65, 3337.2, 3339.75, 15163], [1698303300, 3339.75, 3339.75, 3335.55, 3338.05, 13450], [1698303600, 3338.0, 3338.05, 3334.75, 3336.4, 14006], [1698303900, 3336.8, 3338.05, 3331.0, 3333.1, 19621], [1698304200, 3333.1, 3336.55, 3332.05, 3333.5, 11442], [1698304500, 3334.0, 3343.1, 3334.0, 3342.0, 16533], [1698304800, 3342.0, 3344.0, 3340.0, 3341.95, 11860], [1698305100, 3341.55, 3344.0, 3340.55, 3341.15, 13919], [1698305400, 3341.95, 3347.85, 3341.2, 3346.95, 18597], [1698305700, 3346.75, 3347.95, 3345.45, 3346.45, 18237], [1698306000, 3345.4, 3347.7, 3342.75, 3346.3, 27435], [1698306300, 3346.3, 3347.4, 3343.55, 3347.35, 26084], [1698306600, 3347.35, 3347.7, 3339.75, 3341.95, 24930], [1698306900, 3341.15, 3343.4, 3338.45, 3339.8, 22241], [1698307200, 3339.75, 3344.95, 3338.75, 3343.15, 26619], [1698307500, 3342.7, 3344.65, 3340.35, 3343.65, 20509], [1698307800, 3343.9, 3343.95, 3338.45, 3338.45, 32095], [1698308100, 3338.95, 3341.6, 3335.85, 3336.3, 31624], [1698308400, 3335.0, 3339.5, 3333.5, 3339.0, 28456], [1698308700, 3339.3, 3339.9, 3338.0, 3339.7, 15923], [1698309000, 3339.7, 3342.3, 3339.0, 3340.35, 23407], [1698309300, 3340.0, 3343.85, 3338.7, 3343.5, 15588], [1698309600, 3343.5, 3349.55, 3343.4, 3346.7, 19326], [1698309900, 3346.4, 3348.0, 3341.2, 3342.6, 21024], [1698310200, 3341.35, 3343.95, 3341.0, 3343.95, 15359], [1698310500, 3343.95, 3347.85, 3343.95, 3347.5, 16077], [1698310800, 3347.45, 3348.25, 3343.4, 3347.1, 22886], [1698311100, 3346.75, 3346.75, 3343.1, 3346.0, 18063], [1698311400, 3346.05, 3346.9, 3338.0, 3340.9, 29859], [1698311700, 3341.8, 3344.3, 3340.5, 3342.5, 24373], [1698312000, 3342.5, 3345.5, 3341.05, 3344.2, 30022], [1698312300, 3344.5, 3345.15, 3339.25, 3341.2, 26709], [1698312600, 3341.2, 3341.3, 3336.6, 3337.1, 55366], [1698312900, 3337.55, 3338.0, 3333.05, 3337.15, 55653], [1698313200, 3337.2, 3337.85, 3333.85, 3337.45, 52785], [1698313500, 3338.0, 3340.25, 3335.25, 3336.85, 54122], [1698313800, 3336.9, 3339.45, 3336.05, 3337.95, 53502], [1698314100, 3337.85, 3337.95, 3337.2, 3337.9, 10949]]}\n"
     ]
    }
   ],
   "source": [
    "symbol=\"NSE:TCS-EQ\"\n",
    "data = {\n",
    "    \"symbol\":symbol,\n",
    "    \"resolution\":\"5\",\n",
    "    \"date_format\":\"1\",\n",
    "    \"range_from\":\"2023-10-26\",\n",
    "    \"range_to\":\"2023-10-26\",\n",
    "    \"cont_flag\":\"1\"\n",
    "}\n",
    "\n",
    "response = fyers.history(data=data)\n",
    "print(response)"
   ]
  },
  {
   "cell_type": "code",
   "execution_count": 320,
   "metadata": {},
   "outputs": [],
   "source": [
    "candleSticks=response['candles']\n"
   ]
  },
  {
   "cell_type": "code",
   "execution_count": 321,
   "metadata": {},
   "outputs": [],
   "source": [
    "closingValues=[]\n",
    "candleSticksForDF=[]\n",
    "for item in candleSticks:\n",
    "    candleSticksForDF.append(item)\n",
    "    closingValues.append(item[4])"
   ]
  },
  {
   "cell_type": "code",
   "execution_count": 322,
   "metadata": {},
   "outputs": [
    {
     "data": {
      "text/html": [
       "<div>\n",
       "<style scoped>\n",
       "    .dataframe tbody tr th:only-of-type {\n",
       "        vertical-align: middle;\n",
       "    }\n",
       "\n",
       "    .dataframe tbody tr th {\n",
       "        vertical-align: top;\n",
       "    }\n",
       "\n",
       "    .dataframe thead th {\n",
       "        text-align: right;\n",
       "    }\n",
       "</style>\n",
       "<table border=\"1\" class=\"dataframe\">\n",
       "  <thead>\n",
       "    <tr style=\"text-align: right;\">\n",
       "      <th></th>\n",
       "      <th>closingValues</th>\n",
       "      <th>candleStick</th>\n",
       "    </tr>\n",
       "  </thead>\n",
       "  <tbody>\n",
       "    <tr>\n",
       "      <th>0</th>\n",
       "      <td>3363.95</td>\n",
       "      <td>[1698291900, 3368.05, 3373.7, 3362.35, 3363.95...</td>\n",
       "    </tr>\n",
       "    <tr>\n",
       "      <th>1</th>\n",
       "      <td>3358.15</td>\n",
       "      <td>[1698292200, 3363.9, 3365.95, 3356.0, 3358.15,...</td>\n",
       "    </tr>\n",
       "    <tr>\n",
       "      <th>2</th>\n",
       "      <td>3359.20</td>\n",
       "      <td>[1698292500, 3358.05, 3362.7, 3358.05, 3359.2,...</td>\n",
       "    </tr>\n",
       "    <tr>\n",
       "      <th>3</th>\n",
       "      <td>3367.75</td>\n",
       "      <td>[1698292800, 3359.4, 3367.75, 3359.2, 3367.75,...</td>\n",
       "    </tr>\n",
       "    <tr>\n",
       "      <th>4</th>\n",
       "      <td>3361.10</td>\n",
       "      <td>[1698293100, 3367.8, 3372.0, 3360.0, 3361.1, 3...</td>\n",
       "    </tr>\n",
       "    <tr>\n",
       "      <th>...</th>\n",
       "      <td>...</td>\n",
       "      <td>...</td>\n",
       "    </tr>\n",
       "    <tr>\n",
       "      <th>70</th>\n",
       "      <td>3337.15</td>\n",
       "      <td>[1698312900, 3337.55, 3338.0, 3333.05, 3337.15...</td>\n",
       "    </tr>\n",
       "    <tr>\n",
       "      <th>71</th>\n",
       "      <td>3337.45</td>\n",
       "      <td>[1698313200, 3337.2, 3337.85, 3333.85, 3337.45...</td>\n",
       "    </tr>\n",
       "    <tr>\n",
       "      <th>72</th>\n",
       "      <td>3336.85</td>\n",
       "      <td>[1698313500, 3338.0, 3340.25, 3335.25, 3336.85...</td>\n",
       "    </tr>\n",
       "    <tr>\n",
       "      <th>73</th>\n",
       "      <td>3337.95</td>\n",
       "      <td>[1698313800, 3336.9, 3339.45, 3336.05, 3337.95...</td>\n",
       "    </tr>\n",
       "    <tr>\n",
       "      <th>74</th>\n",
       "      <td>3337.90</td>\n",
       "      <td>[1698314100, 3337.85, 3337.95, 3337.2, 3337.9,...</td>\n",
       "    </tr>\n",
       "  </tbody>\n",
       "</table>\n",
       "<p>75 rows × 2 columns</p>\n",
       "</div>"
      ],
      "text/plain": [
       "    closingValues                                        candleStick\n",
       "0         3363.95  [1698291900, 3368.05, 3373.7, 3362.35, 3363.95...\n",
       "1         3358.15  [1698292200, 3363.9, 3365.95, 3356.0, 3358.15,...\n",
       "2         3359.20  [1698292500, 3358.05, 3362.7, 3358.05, 3359.2,...\n",
       "3         3367.75  [1698292800, 3359.4, 3367.75, 3359.2, 3367.75,...\n",
       "4         3361.10  [1698293100, 3367.8, 3372.0, 3360.0, 3361.1, 3...\n",
       "..            ...                                                ...\n",
       "70        3337.15  [1698312900, 3337.55, 3338.0, 3333.05, 3337.15...\n",
       "71        3337.45  [1698313200, 3337.2, 3337.85, 3333.85, 3337.45...\n",
       "72        3336.85  [1698313500, 3338.0, 3340.25, 3335.25, 3336.85...\n",
       "73        3337.95  [1698313800, 3336.9, 3339.45, 3336.05, 3337.95...\n",
       "74        3337.90  [1698314100, 3337.85, 3337.95, 3337.2, 3337.9,...\n",
       "\n",
       "[75 rows x 2 columns]"
      ]
     },
     "execution_count": 322,
     "metadata": {},
     "output_type": "execute_result"
    }
   ],
   "source": [
    "valuesToPlot={'closingValues':closingValues,'candleStick':candleSticksForDF}\n",
    "df = pd.DataFrame(valuesToPlot)\n",
    "df"
   ]
  },
  {
   "cell_type": "code",
   "execution_count": 323,
   "metadata": {},
   "outputs": [],
   "source": [
    "small_lookback = 5\n",
    "df['mean'] = df['closingValues'].ewm(span=5).mean()"
   ]
  },
  {
   "cell_type": "code",
   "execution_count": 324,
   "metadata": {},
   "outputs": [
    {
     "name": "stdout",
     "output_type": "stream",
     "text": [
      "    closingValues                                        candleStick  \\\n",
      "0         3363.95  [1698291900, 3368.05, 3373.7, 3362.35, 3363.95...   \n",
      "1         3358.15  [1698292200, 3363.9, 3365.95, 3356.0, 3358.15,...   \n",
      "2         3359.20  [1698292500, 3358.05, 3362.7, 3358.05, 3359.2,...   \n",
      "3         3367.75  [1698292800, 3359.4, 3367.75, 3359.2, 3367.75,...   \n",
      "4         3361.10  [1698293100, 3367.8, 3372.0, 3360.0, 3361.1, 3...   \n",
      "..            ...                                                ...   \n",
      "70        3337.15  [1698312900, 3337.55, 3338.0, 3333.05, 3337.15...   \n",
      "71        3337.45  [1698313200, 3337.2, 3337.85, 3333.85, 3337.45...   \n",
      "72        3336.85  [1698313500, 3338.0, 3340.25, 3335.25, 3336.85...   \n",
      "73        3337.95  [1698313800, 3336.9, 3339.45, 3336.05, 3337.95...   \n",
      "74        3337.90  [1698314100, 3337.85, 3337.95, 3337.2, 3337.9,...   \n",
      "\n",
      "           mean       SMA    StdDev   Upper_Band   Lower_Band  \n",
      "0   3363.950000       NaN       NaN          NaN          NaN  \n",
      "1   3360.470000       NaN       NaN          NaN          NaN  \n",
      "2   3359.868421       NaN       NaN          NaN          NaN  \n",
      "3   3363.142308       NaN       NaN          NaN          NaN  \n",
      "4   3362.358294       NaN       NaN          NaN          NaN  \n",
      "..          ...       ...       ...          ...          ...  \n",
      "70  3339.697232  3342.760  3.723186  3348.344778  3337.175222  \n",
      "71  3338.948155  3342.110  4.045766  3348.178649  3336.041351  \n",
      "72  3338.248770  3341.045  3.867058  3346.845587  3335.244413  \n",
      "73  3338.149180  3340.130  3.318818  3345.108228  3335.151772  \n",
      "74  3338.066120  3339.320  2.647557  3343.291335  3335.348665  \n",
      "\n",
      "[75 rows x 7 columns]\n"
     ]
    }
   ],
   "source": [
    "import pandas as pd\n",
    "\n",
    "# Assuming you have your price data in a DataFrame 'df' under the 'candleStick' column\n",
    "\n",
    "# Define the window and standard deviation multiplier\n",
    "window = 10  # You can adjust this window size as needed\n",
    "std_dev_multiplier = 1.5  # Multiplier for standard deviation\n",
    "\n",
    "# Calculate the rolling mean (SMA) and rolling standard deviation\n",
    "df['SMA'] = df['candleStick'].apply(lambda x: pd.Series(x[4])).rolling(window=window).mean()\n",
    "df['StdDev'] = df['candleStick'].apply(lambda x: pd.Series(x[4])).rolling(window=window).std()\n",
    "\n",
    "# Calculate the upper and lower Bollinger Bands\n",
    "df['Upper_Band'] = df['SMA'] + (std_dev_multiplier * df['StdDev'])\n",
    "df['Lower_Band'] = df['SMA'] - (std_dev_multiplier * df['StdDev'])\n",
    "\n",
    "# Print the resulting DataFrame 'df' with Bollinger Bands\n",
    "print(df)\n"
   ]
  },
  {
   "cell_type": "code",
   "execution_count": 325,
   "metadata": {},
   "outputs": [],
   "source": [
    "import pandas as pd\n",
    "import numpy as np\n",
    "\n",
    "\n",
    "def rsi_tradingview(ohlc: pd.DataFrame, period: int = 14, round_rsi: bool = True):\n",
    "    \"\"\" Implements the RSI indicator as defined by TradingView on March 15, 2021.\n",
    "        The TradingView code is as follows:\n",
    "        //@version=4\n",
    "        study(title=\"Relative Strength Index\", shorttitle=\"RSI\", format=format.price, precision=2, resolution=\"\")\n",
    "        len = input(14, minval=1, title=\"Length\")\n",
    "        src = input(close, \"Source\", type = input.source)\n",
    "        up = rma(max(change(src), 0), len)\n",
    "        down = rma(-min(change(src), 0), len)\n",
    "        rsi = down == 0 ? 100 : up == 0 ? 0 : 100 - (100 / (1 + up / down))\n",
    "        plot(rsi, \"RSI\", color=#8E1599)\n",
    "        band1 = hline(70, \"Upper Band\", color=#C0C0C0)\n",
    "        band0 = hline(30, \"Lower Band\", color=#C0C0C0)\n",
    "        fill(band1, band0, color=#9915FF, transp=90, title=\"Background\")\n",
    "\n",
    "    :param ohlc:\n",
    "    :param period:\n",
    "    :param round_rsi:\n",
    "    :return: an array with the RSI indicator values\n",
    "    \"\"\"\n",
    "\n",
    "    delta = ohlc[\"closingValues\"].diff()\n",
    "\n",
    "    up = delta.copy()\n",
    "    up[up < 0] = 0\n",
    "    up = pd.Series.ewm(up, alpha=1/period).mean()\n",
    "\n",
    "    down = delta.copy()\n",
    "    down[down > 0] = 0\n",
    "    down *= -1\n",
    "    down = pd.Series.ewm(down, alpha=1/period).mean()\n",
    "\n",
    "    rsi = np.where(up == 0, 0, np.where(down == 0, 100, 100 - (100 / (1 + up / down))))\n",
    "\n",
    "    return np.round(rsi, 2) if round_rsi else rsi"
   ]
  },
  {
   "cell_type": "code",
   "execution_count": 326,
   "metadata": {},
   "outputs": [],
   "source": [
    "import pandas as pd\n",
    "\n",
    "\n",
    "\n",
    "\n",
    "def stoch_rsi_tradingview(ohlc: pd.DataFrame, period=14, smoothK=3, smoothD=3):\n",
    "    \"\"\" Calculating Stochastic RSI (gives the same values as TradingView as of March 20, 2021.\n",
    "        smoothK = input(3, \"K\", minval=1)\n",
    "        smoothD = input(3, \"D\", minval=1)\n",
    "        lengthRSI = input(14, \"RSI Length\", minval=1)\n",
    "        lengthStoch = input(14, \"Stochastic Length\", minval=1)\n",
    "        src = input(close, title=\"RSI Source\")\n",
    "        rsi1 = rsi(src, lengthRSI)\n",
    "        k = sma(stoch(rsi1, rsi1, rsi1, lengthStoch), smoothK)\n",
    "        d = sma(k, smoothD)\n",
    "\n",
    "    :param ohlc:\n",
    "    :param period:\n",
    "    :param smoothK:\n",
    "    :param smoothD:\n",
    "    :return:\n",
    "    \"\"\"\n",
    "    # Calculate RSI\n",
    "    rsi = rsi_tradingview(ohlc, period=period, round_rsi=False)\n",
    "\n",
    "    # Calculate StochRSI\n",
    "    rsi = pd.Series(rsi)\n",
    "    stochrsi  = (rsi - rsi.rolling(period).min()) / (rsi.rolling(period).max() - rsi.rolling(period).min())\n",
    "    stochrsi_K = stochrsi.rolling(smoothK).mean()\n",
    "    stochrsi_D = stochrsi_K.rolling(smoothD).mean()\n",
    "    df['stochrsi_K']=round(stochrsi_K * 100, 2)\n",
    "    df['stochrsi_D']=round(stochrsi_D * 100, 2)\n",
    "    return round(rsi, 2), round(stochrsi_K * 100, 2), round(stochrsi_D * 100, 2)"
   ]
  },
  {
   "cell_type": "code",
   "execution_count": 327,
   "metadata": {},
   "outputs": [
    {
     "data": {
      "text/plain": [
       "(0       NaN\n",
       " 1      0.00\n",
       " 2     16.32\n",
       " 3     65.57\n",
       " 4     43.92\n",
       "       ...  \n",
       " 70    41.57\n",
       " 71    42.14\n",
       " 72    41.27\n",
       " 73    43.57\n",
       " 74    43.48\n",
       " Length: 75, dtype: float64,\n",
       " 0      NaN\n",
       " 1      NaN\n",
       " 2      NaN\n",
       " 3      NaN\n",
       " 4      NaN\n",
       "       ... \n",
       " 70    5.81\n",
       " 71    1.60\n",
       " 72    1.60\n",
       " 73    6.25\n",
       " 74    9.50\n",
       " Length: 75, dtype: float64,\n",
       " 0       NaN\n",
       " 1       NaN\n",
       " 2       NaN\n",
       " 3       NaN\n",
       " 4       NaN\n",
       "       ...  \n",
       " 70    26.32\n",
       " 71    11.80\n",
       " 72     3.00\n",
       " 73     3.15\n",
       " 74     5.78\n",
       " Length: 75, dtype: float64)"
      ]
     },
     "execution_count": 327,
     "metadata": {},
     "output_type": "execute_result"
    }
   ],
   "source": [
    "stoch_rsi_tradingview(df)"
   ]
  },
  {
   "cell_type": "code",
   "execution_count": 328,
   "metadata": {},
   "outputs": [
    {
     "data": {
      "text/plain": [
       "nan"
      ]
     },
     "execution_count": 328,
     "metadata": {},
     "output_type": "execute_result"
    }
   ],
   "source": [
    "df['stochrsi_D'][17]"
   ]
  },
  {
   "cell_type": "code",
   "execution_count": 329,
   "metadata": {},
   "outputs": [
    {
     "name": "stdout",
     "output_type": "stream",
     "text": [
      "NSE:TCS-EQ Reference Candle 2023-10-26 10:05:00\n",
      "NSE:TCS-EQ Buy Triggered at 3358.35 2023-10-26 10:10:00\n",
      "NSE:TCS-EQ SL hit at 3353.6000000000004 2023-10-26 10:15:00\n",
      "NSE:TCS-EQ Reference Candle 2023-10-26 10:25:00\n",
      "NSE:TCS-EQ Reference Candle 2023-10-26 10:30:00\n",
      "NSE:TCS-EQ Reference Candle 2023-10-26 10:35:00\n",
      "NSE:TCS-EQ Buy Triggered at 3347.15 2023-10-26 10:45:00\n",
      "NSE:TCS-EQ SL hit at 3341.4 2023-10-26 10:50:00\n",
      "StopLoss on 2023-10-26 15:15:00 hit 2 times\n",
      "TP:0\n",
      "SL:-2\n",
      "EOD:0\n",
      "Net For Period=-2\n"
     ]
    }
   ],
   "source": [
    "counter=0\n",
    "buyPrice=-420\n",
    "stopLoss=-420\n",
    "reward=3\n",
    "buying=0\n",
    "slCounter=0\n",
    "tpCounter=0\n",
    "eodCounter=0\n",
    "stopLossCounterForDay=0\n",
    "for index, row in df.iterrows():\n",
    "    #Prints the number of times Stop loss is hit in a day\n",
    "    if(str(datetime.datetime.fromtimestamp(df['candleStick'][index][0]).time())=='15:15:00'):\n",
    "        print('StopLoss on '+str(datetime.datetime.fromtimestamp(df['candleStick'][index][0]))+' hit '+str(stopLossCounterForDay)+' times')\n",
    "        stopLossCounterForDay=0\n",
    "    #Sells everything if already bought a stock EOD\n",
    "    if(buying==1):\n",
    "        if(str(datetime.datetime.fromtimestamp(df['candleStick'][index][0]).time().hour)=='15' and str(datetime.datetime.fromtimestamp(df['candleStick'][index][0]).time().minute)>='15'):\n",
    "            \n",
    "            print(symbol+' EOD Exit at '+str(df['candleStick'][index][4]))\n",
    "            eodCounter=eodCounter+((df['candleStick'][index][4]-buyPrice)/(buyPrice-stopLoss))\n",
    "            counter=0\n",
    "            buyPrice=-420\n",
    "            stopLoss=-420\n",
    "            reward=3\n",
    "            buying=0\n",
    "    if(stopLossCounterForDay<2):\n",
    "        if not math.isnan(df['mean'][index] ):\n",
    "            if not((df['mean'][index]<= df['candleStick'][index][2]) and (df['mean'][index]>= df['candleStick'][index][3])):\n",
    "                #Checks for reference candles\n",
    "                if(buying!=1):\n",
    "                    if(df['mean'][index]>df['candleStick'][index][2] and df['Lower_Band'][index]>=df['candleStick'][index][3]):\n",
    "                        print(symbol+' Reference Candle '+str(datetime.datetime.fromtimestamp(df['candleStick'][index][0])))\n",
    "                        buyPrice=df['candleStick'][index][2]\n",
    "                        stopLoss=df['candleStick'][index][3]-0.2\n",
    "            else:\n",
    "                if(buyPrice!=-420 and stopLoss!=-420):\n",
    "                    #Buy Order\n",
    "                    if(buying==0):\n",
    "                        print(symbol+' Buy Triggered at '+str(buyPrice)+' '+str(datetime.datetime.fromtimestamp(df['candleStick'][index][0])))\n",
    "                        buying=1\n",
    "                    #stoploss hit    \n",
    "                    if(df['candleStick'][index][3]<=stopLoss):\n",
    "                        print(symbol+' SL hit at '+str(stopLoss)+' '+str(datetime.datetime.fromtimestamp(df['candleStick'][index][0])))\n",
    "                        stopLossCounterForDay=stopLossCounterForDay+1\n",
    "                        buying=0\n",
    "                        buyPrice=-420\n",
    "                        stopLoss=-420\n",
    "                        slCounter=slCounter+1\n",
    "                        continue\n",
    "                    targetPrice=buyPrice+((buyPrice-stopLoss)*reward)\n",
    "                    #Sells if made more then 1:3 and meets stochrsi indicator condition\n",
    "                    if(df['candleStick'][index][2]>=targetPrice and df['stochrsi_K'][index]<=df['stochrsi_D'][index]):\n",
    "                        \n",
    "                        buying=0\n",
    "                        print(symbol+' TP hit at '+str(df['candleStick'][index][4])+' '+str(datetime.datetime.fromtimestamp(df['candleStick'][index][0])))\n",
    "                        #tpCounter=tpCounter+1\n",
    "                        tpCounter=tpCounter+((df['candleStick'][index][4]-buyPrice)/(buyPrice-stopLoss))\n",
    "                        buyPrice=-420\n",
    "                        stopLoss=-420\n",
    "      \n",
    "print('TP:'+str(tpCounter))\n",
    "print('SL:'+str(slCounter*-1))\n",
    "roundValueForEOD=round(eodCounter,3)\n",
    "print('EOD:'+str(roundValueForEOD))\n",
    "roundValueForNet=round(((tpCounter)+(slCounter*-1)+(eodCounter)),3)\n",
    "print('Net For Period='+ str(roundValueForNet))\n"
   ]
  },
  {
   "cell_type": "code",
   "execution_count": null,
   "metadata": {},
   "outputs": [],
   "source": []
  },
  {
   "cell_type": "code",
   "execution_count": 289,
   "metadata": {},
   "outputs": [
    {
     "data": {
      "text/plain": [
       "<Axes: >"
      ]
     },
     "execution_count": 289,
     "metadata": {},
     "output_type": "execute_result"
    },
    {
     "data": {
      "image/png": "[encoded data removed]",
      "text/plain": [
       "<Figure size 640x480 with 1 Axes>"
      ]
     },
     "metadata": {},
     "output_type": "display_data"
    }
   ],
   "source": [
    "objForGraph={'closingValue':df['closingValues'],'mean':df['mean']}\n",
    "dfToPlot = pd.DataFrame(objForGraph)\n",
    "dfToPlot.plot()\n"
   ]
  },
  {
   "cell_type": "code",
   "execution_count": null,
   "metadata": {},
   "outputs": [],
   "source": []
  },
  {
   "cell_type": "code",
   "execution_count": null,
   "metadata": {},
   "outputs": [],
   "source": []
  },
  {
   "cell_type": "code",
   "execution_count": null,
   "metadata": {},
   "outputs": [],
   "source": []
  },
  {
   "cell_type": "code",
   "execution_count": null,
   "metadata": {},
   "outputs": [],
   "source": []
  }
 ],
 "metadata": {
  "kernelspec": {
   "display_name": "Python 3",
   "language": "python",
   "name": "python3"
  },
  "language_info": {
   "codemirror_mode": {
    "name": "ipython",
    "version": 3
   },
   "file_extension": ".py",
   "mimetype": "text/x-python",
   "name": "python",
   "nbconvert_exporter": "python",
   "pygments_lexer": "ipython3",
   "version": "3.11.4"
  },
  "orig_nbformat": 4
 },
 "nbformat": 4,
 "nbformat_minor": 2
}
